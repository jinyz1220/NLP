{
  "cells": [
    {
      "cell_type": "markdown",
      "metadata": {
        "id": "57H-mVBq1d4v"
      },
      "source": [
      ]
    },
    {
      "cell_type": "code",
      "execution_count": 1,
      "metadata": {
        "id": "QCdFoYit1Iis"
      },
      "outputs": [],
      "source": [
        "%%capture\n",
        "! pip install tqdm boto3 requests regex sentencepiece sacremoses\n",
        "! pip install transformers"
      ]
    },
    {
      "cell_type": "code",
      "execution_count": 1,
      "metadata": {
        "id": "Q84rITlDkns5"
      },
      "outputs": [],
      "source": [
        "import os"
      ]
    },
    {
      "cell_type": "code",
      "execution_count": 3,
      "metadata": {
        "colab": {
          "base_uri": "https://localhost:8080/",
          "height": 0
        },
        "id": "pG05aKpmk7zv",
        "outputId": "c1e5cdd0-12bb-4eb7-fc0c-42baab2ba653"
      },
      "outputs": [
        {
          "name": "stdout",
          "output_type": "stream",
          "text": [
            "Mounted at /content/drive\n"
          ]
        }
      ],
      "source": [
        "# from google.colab import drive\n",
        "# drive.mount('/content/drive')"
      ]
    },
    {
      "cell_type": "code",
      "execution_count": 2,
      "metadata": {
        "id": "ranL5EcGkov1"
      },
      "outputs": [],
      "source": [
        "# os.chdir('/content/drive/MyDrive/FA 23/TTIC 31190 NLP/hw3')\n"
      ]
    },
    {
      "cell_type": "markdown",
      "metadata": {
        "id": "y2usTWPt2Tjs"
      },
      "source": [
        "## BERT Features\n",
        "\n",
        "In this part, you will use BERT features to classify DBPedia articles.\n",
        "The data is already pre-processed, and the data loader is implemented below."
      ]
    },
    {
      "cell_type": "code",
      "execution_count": 3,
      "metadata": {
        "id": "ozrGg7GzpqnM"
      },
      "outputs": [],
      "source": [
        "import torch.nn.functional as F\n",
        "import gc"
      ]
    },
    {
      "cell_type": "code",
      "execution_count": 4,
      "metadata": {
        "id": "Sr_s2OH017B3"
      },
      "outputs": [],
      "source": [
        "# Basics: dataset, data loaders, Classifier\n",
        "import collections\n",
        "import json\n",
        "import torch\n",
        "import torch.nn as nn\n",
        "import tqdm\n",
        "from torch.utils.data import Dataset, DataLoader\n",
        "from transformers import AutoTokenizer, AutoModel\n",
        "\n",
        "\n",
        "SPLITS = ['train', 'dev', 'test']\n",
        "\n",
        "class DBPediaDataset(Dataset):\n",
        "  '''DBPedia dataset.\n",
        "    Args:\n",
        "      path[str]: path to the original data.\n",
        "  '''\n",
        "  def __init__(self, path):\n",
        "    with open(path) as fin:\n",
        "      self._data = [json.loads(l) for l in fin]\n",
        "    self._n_classes = len(set([datum['label'] for datum in self._data]))\n",
        "\n",
        "  def __getitem__(self, index):\n",
        "    return self._data[index]\n",
        "\n",
        "  def __len__(self):\n",
        "    return len(self._data)\n",
        "\n",
        "  @property\n",
        "  def n_classes(self):\n",
        "    return self._n_classes\n",
        "\n",
        "  @staticmethod\n",
        "  def collate_fn(tokenizer, device, batch):\n",
        "    '''The collate function that compresses a training batch.\n",
        "      Args:\n",
        "        batch[list[dict[str, Any]]]: data in the batch.\n",
        "      Returns:\n",
        "        labels[torch.LongTensor]: the labels in the batch.\n",
        "        sentences[dict[str, torch.Tensor]]: sentences converted by tokenizers.\n",
        "    '''\n",
        "    labels = torch.tensor([datum['label'] for datum in batch]).long().to(device)\n",
        "    sentences = tokenizer(\n",
        "        [datum['sentence'] for datum in batch],\n",
        "        return_tensors='pt',  # pt = pytorch style tensor\n",
        "        padding=True)\n",
        "    for key in sentences:\n",
        "      sentences[key] = sentences[key].to(device)\n",
        "    return labels, sentences\n",
        "\n",
        "def construct_datasets(prefix, batch_size, tokenizer, device):\n",
        "  '''Constructs datasets and data loaders.\n",
        "    Args:\n",
        "      prefix[str]: prefix of the dataset (e.g., dbpedia_).\n",
        "      batch_size[int]: maximum number of examples in a batch.\n",
        "      tokenizer: model tokenizer that converts sentences to integer tensors.\n",
        "      device[torch.device]: the device (cpu/gpu) that the tensor should be on.\n",
        "    Returns:\n",
        "      datasets[dict[str, Dataset]]: a dict of constructed datasets.\n",
        "      dataloaders[dict[str, DataLoader]]: a dict of constructed data loaders.\n",
        "  '''\n",
        "  datasets = collections.defaultdict()\n",
        "  dataloaders = collections.defaultdict()\n",
        "  for split in SPLITS:\n",
        "    datasets[split] = DBPediaDataset(f'{prefix}{split}.json')\n",
        "    dataloaders[split] = DataLoader(\n",
        "        datasets[split],\n",
        "        batch_size=batch_size,\n",
        "        shuffle=(split == 'train'),\n",
        "        collate_fn=lambda x:DBPediaDataset.collate_fn(tokenizer, device, x))\n",
        "  return datasets, dataloaders"
      ]
    },
    {
      "cell_type": "code",
      "execution_count": 5,
      "metadata": {
        "id": "x7zw6kKUE4FY"
      },
      "outputs": [],
      "source": [
        "class Classifier(nn.Module):\n",
        "    def __init__(self, input_size, hidden_size, num_classes):\n",
        "        super(Classifier, self).__init__()\n",
        "        self.fc1 = nn.Linear(input_size, hidden_size)\n",
        "        self.fc2 = nn.Linear(hidden_size, num_classes)\n",
        "\n",
        "    def forward(self, x):\n",
        "        x = F.relu(self.fc1(x))\n",
        "        x = self.fc2(x)\n",
        "        return x"
      ]
    },
    {
      "cell_type": "markdown",
      "metadata": {
        "id": "isBytE8_OUSX"
      },
      "source": [
        "## Training and Evaluation"
      ]
    },
    {
      "cell_type": "code",
      "execution_count": 6,
      "metadata": {
        "id": "iwBrqhm1jSQJ"
      },
      "outputs": [],
      "source": [
        "def predict(outputs):\n",
        "    \"\"\"\n",
        "    Return predicted classes.\n",
        "    \"\"\"\n",
        "    classes_pred = torch.argmax(outputs, dim=1)\n",
        "\n",
        "    return classes_pred"
      ]
    },
    {
      "cell_type": "code",
      "execution_count": 10,
      "metadata": {
        "id": "9wd5TjINjSQK"
      },
      "outputs": [],
      "source": [
        "def train_classifier(seed, datasets, dataloaders, bert_model, params=False, \n",
        "                     pooling=\"cls\"):\n",
        "    \"\"\"\n",
        "    Train the classifier.\n",
        "    \"\"\"\n",
        "    torch.manual_seed(seed)\n",
        "\n",
        "    classifier_hidden_size = 32\n",
        "\n",
        "    classifier = Classifier(\n",
        "        bert_model.config.hidden_size,\n",
        "        classifier_hidden_size,\n",
        "        datasets['train'].n_classes).to(bert_model.device)\n",
        "\n",
        "    classifier.train()\n",
        "\n",
        "    if params != False:\n",
        "        optimizer = torch.optim.Adam(params + list(classifier.parameters()), \n",
        "                                     lr=5e-4)\n",
        "\n",
        "    else:\n",
        "        optimizer = torch.optim.Adam(classifier.parameters(), lr=5e-4)\n",
        "\n",
        "\n",
        "    loss_func = nn.CrossEntropyLoss()\n",
        "\n",
        "    pbar = tqdm.tqdm(dataloaders['train'])\n",
        "\n",
        "    for labels, sentences in pbar:\n",
        "        optimizer.zero_grad()\n",
        "\n",
        "        if params:\n",
        "            if pooling == \"cls\":\n",
        "                features = bert_model(**sentences)['last_hidden_state'][:, 0, :]\n",
        "\n",
        "            elif pooling == \"mean\":\n",
        "                attention_mask = sentences[\"attention_mask\"]\n",
        "                features = mean_pooling(bert_model(**sentences)\\\n",
        "                                        ['last_hidden_state'], attention_mask)\n",
        "\n",
        "            else:\n",
        "                attention_mask = sentences[\"attention_mask\"]\n",
        "                features = max_pooling(bert_model(**sentences)\\\n",
        "                                       ['last_hidden_state'], attention_mask)\n",
        "\n",
        "        else:\n",
        "            with torch.no_grad():\n",
        "                if pooling == \"cls\":\n",
        "                    features = bert_model(**sentences)['last_hidden_state'][:, 0, :]\n",
        "\n",
        "                elif pooling == \"mean\":\n",
        "                    attention_mask = sentences[\"attention_mask\"] \n",
        "                    features = mean_pooling(bert_model(**sentences) \\\n",
        "                                            ['last_hidden_state'], \n",
        "                                            attention_mask)\n",
        "\n",
        "                else:\n",
        "                    attention_mask = sentences[\"attention_mask\"]\n",
        "                    features = max_pooling(bert_model(**sentences) \\\n",
        "                                           ['last_hidden_state'], \n",
        "                                           attention_mask)\n",
        "\n",
        "        outputs = classifier(features)\n",
        "        loss = loss_func(outputs, labels)\n",
        "\n",
        "        loss.backward()\n",
        "        optimizer.step()\n",
        "\n",
        "    torch.cuda.empty_cache()\n",
        "    gc.collect()\n",
        "\n",
        "    return classifier, bert_model"
      ]
    },
    {
      "cell_type": "code",
      "execution_count": 7,
      "metadata": {
        "id": "csY8SBF-jSQK"
      },
      "outputs": [],
      "source": [
        "def eval_classifier(dataloaders, dataset, classifier, bert_model, pooling=\"cls\"):\n",
        "    \"\"\"\n",
        "    Evaluate the classifier.\n",
        "    \"\"\"\n",
        "    classifier.eval()\n",
        "    bert_model.eval()\n",
        "\n",
        "    total_steps = len(dataloaders[dataset])\n",
        "    correct_pred = 0\n",
        "    total_pred = 0\n",
        "\n",
        "    pbar = tqdm.tqdm(dataloaders[dataset])\n",
        "    torch.cuda.empty_cache()\n",
        "\n",
        "    for step, (labels, sentences) in enumerate(pbar):\n",
        "\n",
        "        if pooling == \"cls\":\n",
        "            features = bert_model(**sentences)['last_hidden_state'][:, 0, :]\n",
        "\n",
        "        elif pooling == \"mean\":\n",
        "            attention_mask = sentences[\"attention_mask\"]\n",
        "            features = mean_pooling(bert_model(**sentences)['last_hidden_state'], \n",
        "                                    attention_mask)\n",
        "\n",
        "        else:\n",
        "            attention_mask = sentences[\"attention_mask\"]\n",
        "            features = max_pooling(bert_model(**sentences)['last_hidden_state'], \n",
        "                                   attention_mask)\n",
        "\n",
        "\n",
        "        outputs = classifier(features)\n",
        "\n",
        "        classes_pred = predict(outputs)\n",
        "        correct_pred += (classes_pred == labels).sum().item()\n",
        "        total_pred += labels.size(0)\n",
        "\n",
        "\n",
        "        pbar.set_description(f\"Step {step+1}/{total_steps}\")\n",
        "\n",
        "    acc = correct_pred / total_pred\n",
        "\n",
        "    print(f\"{dataset} accuracy: {acc}\")\n",
        "\n",
        "    torch.cuda.empty_cache()\n",
        "\n",
        "    return acc"
      ]
    },
    {
      "cell_type": "code",
      "execution_count": 8,
      "metadata": {
        "id": "Pwlv5g67jSQK"
      },
      "outputs": [],
      "source": [
        "def mean_pooling(features, attention_mask):\n",
        "    \"\"\"\n",
        "    Apply mean pooling on the features.\n",
        "    \"\"\"\n",
        "\n",
        "    mask_expanded = attention_mask.unsqueeze(-1).expand(features.size()).float()\n",
        "\n",
        "    sum_embed = torch.sum(features * mask_expanded, 1)\n",
        "\n",
        "    len_sentence = mask_expanded.sum(1)\n",
        "\n",
        "    return sum_embed / len_sentence"
      ]
    },
    {
      "cell_type": "code",
      "execution_count": 9,
      "metadata": {
        "id": "kD6pUOQdjSQL"
      },
      "outputs": [],
      "source": [
        "def max_pooling(features, attention_mask):\n",
        "    \"\"\"\n",
        "    Apply max pooling on the features.\n",
        "    \"\"\"\n",
        "    mask_expanded = attention_mask.unsqueeze(-1).expand(features.size()).float()\n",
        "    return torch.max(features, 1)[0]"
      ]
    },
    {
      "cell_type": "code",
      "execution_count": 14,
      "metadata": {
        "id": "O7fk3p3Fue8F"
      },
      "outputs": [],
      "source": [
        "def trials(seeds, params=False, pooling=\"cls\"):\n",
        "    \"\"\"\n",
        "    Train, evaluate, and test classifier with differet seeds.\n",
        "    \"\"\"\n",
        "    best_acc = 0\n",
        "    best_seed = None\n",
        "    best_classifier = None\n",
        "    acc_sum = 0\n",
        "    acc_sum_x2 = 0\n",
        "    n = len(seeds)\n",
        "    batch_size = 32\n",
        "    tokenizer = AutoTokenizer.from_pretrained('bert-base-cased')\n",
        "\n",
        "\n",
        "    for seed in seeds:\n",
        "        torch.manual_seed(seed)\n",
        "        bert_model = AutoModel.from_pretrained('bert-base-cased')\n",
        "        if params:\n",
        "            params = list()\n",
        "            for name, param in bert_model.named_parameters():\n",
        "                if name.startswith('encoder.layer.10') or \\\n",
        "                   name.startswith('encoder.layer.11'):\n",
        "                        params.append(param)\n",
        "\n",
        "        if torch.cuda.is_available():\n",
        "            torch.cuda.manual_seed_all(seed)\n",
        "            bert_model = bert_model.cuda()\n",
        "\n",
        "        datasets, dataloaders = construct_datasets(prefix='dbpedia_',\n",
        "                                                   batch_size=batch_size,\n",
        "                                                   tokenizer=tokenizer,\n",
        "                                                   device=bert_model.device)\n",
        "\n",
        "        classifier, bert_model = train_classifier(seed, datasets, dataloaders,\n",
        "                                                  bert_model, params=params,\n",
        "                                                  pooling=pooling)\n",
        "\n",
        "        acc = eval_classifier(dataloaders, \"dev\", classifier, bert_model,\n",
        "                              pooling=pooling)\n",
        "        if acc > best_acc:\n",
        "            best_acc = acc\n",
        "            best_seed = seed\n",
        "            best_classifier = classifier\n",
        "            best_bert = bert_model\n",
        "\n",
        "        acc_sum += acc\n",
        "        acc_sum_x2 += acc ** 2\n",
        "        torch.cuda.empty_cache()\n",
        "        gc.collect()\n",
        "\n",
        "\n",
        "    mean = acc_sum / n\n",
        "    var = (acc_sum_x2 - acc_sum**2 / n) / (n - 1)\n",
        "    std = var**0.5\n",
        "\n",
        "    torch.cuda.empty_cache()\n",
        "    gc.collect()\n",
        "\n",
        "    test_acc = eval_classifier(dataloaders, \"test\", best_classifier, best_bert,\n",
        "                               pooling=pooling)\n",
        "\n",
        "    return mean, std, test_acc\n"
      ]
    },
    {
      "cell_type": "markdown",
      "metadata": {
        "id": "JCJA7Pnl4cot"
      },
      "source": [
        "### 1.1 CLS"
      ]
    },
    {
      "cell_type": "code",
      "execution_count": 10,
      "metadata": {
        "id": "Qo_rovcBnoTF"
      },
      "outputs": [],
      "source": [
        "seeds = [0, 42, 1, 3, 8]"
      ]
    },
    {
      "cell_type": "code",
      "execution_count": null,
      "metadata": {
        "colab": {
          "base_uri": "https://localhost:8080/",
          "height": 481,
          "referenced_widgets": [
            "f7f9ceef37b24349bf31e02865546868",
            "5aaa0bdb31064ac8b4796ab8c143b162",
            "713a9d965a994c3c8564af79bfb4b5f5",
            "14a039cff6204402b61218cbe640230c",
            "6275a53dee314a5db7d768180fd93da0",
            "3eff97ec98b443ea982baaf84ee8c5a0",
            "e38f8976221245b99dc1ea7b8a416060",
            "b7200d38860143759769180dc9acbaa5",
            "cfcaae0aa6344a67b39661f67caac004",
            "22552ce0cdeb40638eb78182dd97ae63",
            "903c7d0b51a44da4add6fbe907e20a3b",
            "ddec878be09d4486aa780d246da09f0c",
            "bbe882925a4041c0a11c522dcdcd619d",
            "2566f056f995402eb729e7d5045a4876",
            "bf469199f6674b54bc84d4fd0a10d7fe",
            "d3d54359659e4419a2ea3b7cb8f8df1b",
            "98d7289f3ee04fbe848c3c28cbe76977",
            "01d573c627344de1aaa5f3e79f0340a4",
            "b54e196132c2496b868b1f072a6f7d95",
            "0f6b22afcf684f66b3486bda4265eda4",
            "dec01788ab41492d8d01c48fa88e376c",
            "702694c2126d41a6bcf1557918486fe7",
            "e3f3b3c8f2e442fba05b000f2800f0f1",
            "a1f09546db0f49e0a2e3dfb6cbb2ad56",
            "657fad48784541798b6b8c95566d23df",
            "fb9c1638b8b746cbb1c391711dabf476",
            "6538f8aa44f74e58ad01bab149a24b86",
            "4edc673b893f43ac83d51324f930ca7d",
            "9c07a2df6cdb4c1296e869ae2c16fef9",
            "1d4b3f1fe7dc4bcda06e79f9d8ad2059",
            "85c7e7f491e2413ab1f3bd33ecb409c4",
            "652942de7f154f6c8c8daa678ace46f6",
            "b57c4afff8c644da8f12b1318a9ca2dd",
            "286f491c2fc146859f6ea0b999b4794f",
            "a2eabd7f729c4dd1bc001a57915da015",
            "fcabf9c628f549e7b2e24f96763128dd",
            "1f5a56aaf4ac40eaa611d5b55c02b2ce",
            "2b9bbb47db3c4686a4e71a63ba592022",
            "4f09b14fb51e4559ad740f763659f620",
            "b20e7200ae6e4326901737f5b6b1ed7a",
            "042d9aa9db1a428a95ab6431facb410e",
            "6a4a9f96d8134d248d5cd66381d88eeb",
            "768fa98a17104e108a574bc598af4c2a",
            "58b8f9563624478cba183c0240cd348d",
            "d84fb790f6134cceb4d2155f8ffb4fd6",
            "f054c2af033343b7a6f3dfd7bdf73fdb",
            "15b87e4c21124c13a1bbff51eb8da6a1",
            "439f409ba9ff44999a4842a849b96408",
            "86638b115c044b7d82b02418a2c09c1a",
            "5f39fc0148104e4ca19557e1e485fa08",
            "50370c0a87544623b3aabd0c7cd44d3e",
            "c0196942543d43e39625d975acaed174",
            "a67e84bac5d04c8f924a28bc3d959d6e",
            "88b6590b405d43b9abe6ea494c4be0fb",
            "94ce64ea476744468cee86e0f8491444"
          ]
        },
        "id": "N-hB21NW63JE",
        "outputId": "aa9536f0-08a7-4f61-beb4-49f4a4a18bfe"
      },
      "outputs": [
        {
          "data": {
            "application/vnd.jupyter.widget-view+json": {
              "model_id": "f7f9ceef37b24349bf31e02865546868",
              "version_major": 2,
              "version_minor": 0
            },
            "text/plain": [
              "tokenizer_config.json:   0%|          | 0.00/29.0 [00:00<?, ?B/s]"
            ]
          },
          "metadata": {},
          "output_type": "display_data"
        },
        {
          "data": {
            "application/vnd.jupyter.widget-view+json": {
              "model_id": "ddec878be09d4486aa780d246da09f0c",
              "version_major": 2,
              "version_minor": 0
            },
            "text/plain": [
              "config.json:   0%|          | 0.00/570 [00:00<?, ?B/s]"
            ]
          },
          "metadata": {},
          "output_type": "display_data"
        },
        {
          "data": {
            "application/vnd.jupyter.widget-view+json": {
              "model_id": "e3f3b3c8f2e442fba05b000f2800f0f1",
              "version_major": 2,
              "version_minor": 0
            },
            "text/plain": [
              "vocab.txt:   0%|          | 0.00/213k [00:00<?, ?B/s]"
            ]
          },
          "metadata": {},
          "output_type": "display_data"
        },
        {
          "data": {
            "application/vnd.jupyter.widget-view+json": {
              "model_id": "286f491c2fc146859f6ea0b999b4794f",
              "version_major": 2,
              "version_minor": 0
            },
            "text/plain": [
              "tokenizer.json:   0%|          | 0.00/436k [00:00<?, ?B/s]"
            ]
          },
          "metadata": {},
          "output_type": "display_data"
        },
        {
          "data": {
            "application/vnd.jupyter.widget-view+json": {
              "model_id": "d84fb790f6134cceb4d2155f8ffb4fd6",
              "version_major": 2,
              "version_minor": 0
            },
            "text/plain": [
              "model.safetensors:   0%|          | 0.00/436M [00:00<?, ?B/s]"
            ]
          },
          "metadata": {},
          "output_type": "display_data"
        },
        {
          "name": "stderr",
          "output_type": "stream",
          "text": [
            "100%|██████████| 313/313 [00:46<00:00,  6.70it/s]\n",
            "Step 32/32: 100%|██████████| 32/32 [00:04<00:00,  7.49it/s]\n"
          ]
        },
        {
          "name": "stdout",
          "output_type": "stream",
          "text": [
            "dev accuracy: 0.961\n"
          ]
        },
        {
          "name": "stderr",
          "output_type": "stream",
          "text": [
            "100%|██████████| 313/313 [00:49<00:00,  6.35it/s]\n",
            "Step 32/32: 100%|██████████| 32/32 [00:04<00:00,  7.41it/s]\n"
          ]
        },
        {
          "name": "stdout",
          "output_type": "stream",
          "text": [
            "dev accuracy: 0.962\n"
          ]
        },
        {
          "name": "stderr",
          "output_type": "stream",
          "text": [
            "100%|██████████| 313/313 [00:47<00:00,  6.52it/s]\n",
            "Step 32/32: 100%|██████████| 32/32 [00:04<00:00,  7.01it/s]\n"
          ]
        },
        {
          "name": "stdout",
          "output_type": "stream",
          "text": [
            "dev accuracy: 0.968\n"
          ]
        },
        {
          "name": "stderr",
          "output_type": "stream",
          "text": [
            "100%|██████████| 313/313 [00:48<00:00,  6.43it/s]\n",
            "Step 32/32: 100%|██████████| 32/32 [00:04<00:00,  7.37it/s]\n"
          ]
        },
        {
          "name": "stdout",
          "output_type": "stream",
          "text": [
            "dev accuracy: 0.951\n"
          ]
        },
        {
          "name": "stderr",
          "output_type": "stream",
          "text": [
            "100%|██████████| 313/313 [00:48<00:00,  6.48it/s]\n",
            "Step 32/32: 100%|██████████| 32/32 [00:04<00:00,  7.32it/s]\n"
          ]
        },
        {
          "name": "stdout",
          "output_type": "stream",
          "text": [
            "dev accuracy: 0.954\n"
          ]
        },
        {
          "name": "stderr",
          "output_type": "stream",
          "text": [
            "Step 32/32: 100%|██████████| 32/32 [00:04<00:00,  7.42it/s]\n"
          ]
        },
        {
          "name": "stdout",
          "output_type": "stream",
          "text": [
            "test accuracy: 0.968\n"
          ]
        }
      ],
      "source": [
        "avg_acc_cls, sd_acc_cls, test_acc_cls = trials(seeds)"
      ]
    },
    {
      "cell_type": "code",
      "execution_count": null,
      "metadata": {
        "colab": {
          "base_uri": "https://localhost:8080/"
        },
        "id": "jXitf9JgjSQL",
        "outputId": "fa43e08e-3198-48c4-cc6f-f215976cfb45"
      },
      "outputs": [
        {
          "name": "stdout",
          "output_type": "stream",
          "text": [
            "Average Accuracy on Dev:  0.9592\n",
            "Standard Deviation of Accuracies on Dev:  0.00676017751244857\n",
            "Test Accuracy:  0.968\n"
          ]
        }
      ],
      "source": [
        "print(\"Average Accuracy on Dev: \", avg_acc_cls)\n",
        "print(\"Standard Deviation of Accuracies on Dev: \", sd_acc_cls)\n",
        "print(\"Test Accuracy: \", test_acc_cls)"
      ]
    },
    {
      "cell_type": "markdown",
      "metadata": {
        "id": "OYAeIc5UuBPY"
      },
      "source": [
        "For CLS, the average accuracy on dev is 0.9592; the standard deviation is 0.0068; the test accuracy is 0.968.\n",
        "\n"
      ]
    },
    {
      "cell_type": "markdown",
      "metadata": {
        "id": "lTEigx8RuOQG"
      },
      "source": [
        "### 1.2 Mean pooling and Max pooling"
      ]
    },
    {
      "cell_type": "markdown",
      "metadata": {
        "id": "lsmMPTLyuWYk"
      },
      "source": [
        "Mean Pooling"
      ]
    },
    {
      "cell_type": "code",
      "execution_count": null,
      "metadata": {
        "colab": {
          "base_uri": "https://localhost:8080/"
        },
        "id": "gpvEK4_6uJsk",
        "outputId": "d0e5e4ee-eed3-44ee-e02d-aeee0a74c73e"
      },
      "outputs": [
        {
          "name": "stderr",
          "output_type": "stream",
          "text": [
            "100%|██████████| 313/313 [00:48<00:00,  6.46it/s]\n",
            "Step 32/32: 100%|██████████| 32/32 [00:04<00:00,  7.35it/s]\n"
          ]
        },
        {
          "name": "stdout",
          "output_type": "stream",
          "text": [
            "dev accuracy: 0.967\n"
          ]
        },
        {
          "name": "stderr",
          "output_type": "stream",
          "text": [
            "100%|██████████| 313/313 [00:48<00:00,  6.49it/s]\n",
            "Step 32/32: 100%|██████████| 32/32 [00:04<00:00,  7.27it/s]\n"
          ]
        },
        {
          "name": "stdout",
          "output_type": "stream",
          "text": [
            "dev accuracy: 0.956\n"
          ]
        },
        {
          "name": "stderr",
          "output_type": "stream",
          "text": [
            "100%|██████████| 313/313 [00:48<00:00,  6.47it/s]\n",
            "Step 32/32: 100%|██████████| 32/32 [00:04<00:00,  7.30it/s]\n"
          ]
        },
        {
          "name": "stdout",
          "output_type": "stream",
          "text": [
            "dev accuracy: 0.971\n"
          ]
        },
        {
          "name": "stderr",
          "output_type": "stream",
          "text": [
            "100%|██████████| 313/313 [00:48<00:00,  6.41it/s]\n",
            "Step 32/32: 100%|██████████| 32/32 [00:04<00:00,  7.33it/s]\n"
          ]
        },
        {
          "name": "stdout",
          "output_type": "stream",
          "text": [
            "dev accuracy: 0.969\n"
          ]
        },
        {
          "name": "stderr",
          "output_type": "stream",
          "text": [
            "100%|██████████| 313/313 [00:48<00:00,  6.47it/s]\n",
            "Step 32/32: 100%|██████████| 32/32 [00:04<00:00,  7.28it/s]\n"
          ]
        },
        {
          "name": "stdout",
          "output_type": "stream",
          "text": [
            "dev accuracy: 0.967\n"
          ]
        },
        {
          "name": "stderr",
          "output_type": "stream",
          "text": [
            "Step 32/32: 100%|██████████| 32/32 [00:04<00:00,  7.46it/s]\n"
          ]
        },
        {
          "name": "stdout",
          "output_type": "stream",
          "text": [
            "test accuracy: 0.964\n"
          ]
        }
      ],
      "source": [
        "avg_acc_mean, sd_acc_mean, test_acc_mean = trials(seeds, pooling=\"mean\")"
      ]
    },
    {
      "cell_type": "code",
      "execution_count": null,
      "metadata": {
        "colab": {
          "base_uri": "https://localhost:8080/"
        },
        "id": "ovHLtg3Fva7I",
        "outputId": "c7c4bf7d-bf58-4af6-f017-4da7ec5ee1a8"
      },
      "outputs": [
        {
          "name": "stdout",
          "output_type": "stream",
          "text": [
            "Average Accuracy on Dev:  0.966\n",
            "Standard Deviation of Accuracies on Dev:  0.005830951894833936\n",
            "Test Accuracy:  0.964\n"
          ]
        }
      ],
      "source": [
        "print(\"Average Accuracy on Dev: \", avg_acc_mean)\n",
        "print(\"Standard Deviation of Accuracies on Dev: \", sd_acc_mean)\n",
        "print(\"Test Accuracy: \", test_acc_mean)"
      ]
    },
    {
      "cell_type": "markdown",
      "metadata": {
        "id": "s-UsP0ZeZGLw"
      },
      "source": [
        "For mean pooling, the average accuracy on dev is 0.966; the standard deviation is 0.0058; the test accuracy is 0.964."
      ]
    },
    {
      "cell_type": "markdown",
      "metadata": {
        "id": "LRwK41DWwf3G"
      },
      "source": [
        "Max Pooling"
      ]
    },
    {
      "cell_type": "code",
      "execution_count": null,
      "metadata": {
        "colab": {
          "base_uri": "https://localhost:8080/"
        },
        "id": "K9v-NZq2weia",
        "outputId": "2d7a8648-7372-444b-b64e-903cfabc04fa"
      },
      "outputs": [
        {
          "name": "stderr",
          "output_type": "stream",
          "text": [
            "100%|██████████| 313/313 [00:48<00:00,  6.45it/s]\n",
            "Step 32/32: 100%|██████████| 32/32 [00:04<00:00,  7.25it/s]\n"
          ]
        },
        {
          "name": "stdout",
          "output_type": "stream",
          "text": [
            "dev accuracy: 0.665\n"
          ]
        },
        {
          "name": "stderr",
          "output_type": "stream",
          "text": [
            "100%|██████████| 313/313 [00:48<00:00,  6.47it/s]\n",
            "Step 32/32: 100%|██████████| 32/32 [00:04<00:00,  7.31it/s]\n"
          ]
        },
        {
          "name": "stdout",
          "output_type": "stream",
          "text": [
            "dev accuracy: 0.742\n"
          ]
        },
        {
          "name": "stderr",
          "output_type": "stream",
          "text": [
            "100%|██████████| 313/313 [00:48<00:00,  6.45it/s]\n",
            "Step 32/32: 100%|██████████| 32/32 [00:04<00:00,  7.31it/s]\n"
          ]
        },
        {
          "name": "stdout",
          "output_type": "stream",
          "text": [
            "dev accuracy: 0.583\n"
          ]
        },
        {
          "name": "stderr",
          "output_type": "stream",
          "text": [
            "100%|██████████| 313/313 [00:48<00:00,  6.44it/s]\n",
            "Step 32/32: 100%|██████████| 32/32 [00:04<00:00,  7.29it/s]\n"
          ]
        },
        {
          "name": "stdout",
          "output_type": "stream",
          "text": [
            "dev accuracy: 0.602\n"
          ]
        },
        {
          "name": "stderr",
          "output_type": "stream",
          "text": [
            "100%|██████████| 313/313 [00:48<00:00,  6.46it/s]\n",
            "Step 32/32: 100%|██████████| 32/32 [00:04<00:00,  7.34it/s]\n"
          ]
        },
        {
          "name": "stdout",
          "output_type": "stream",
          "text": [
            "dev accuracy: 0.49\n"
          ]
        },
        {
          "name": "stderr",
          "output_type": "stream",
          "text": [
            "Step 32/32: 100%|██████████| 32/32 [00:04<00:00,  7.43it/s]\n"
          ]
        },
        {
          "name": "stdout",
          "output_type": "stream",
          "text": [
            "test accuracy: 0.736\n"
          ]
        }
      ],
      "source": [
        "avg_acc_max, sd_acc_max, test_acc_max = trials(seeds, pooling=\"max\")"
      ]
    },
    {
      "cell_type": "code",
      "execution_count": null,
      "metadata": {
        "colab": {
          "base_uri": "https://localhost:8080/"
        },
        "id": "LMknbZgMwefy",
        "outputId": "3a61972e-2714-4bbc-afb6-dce9ce9c8b92"
      },
      "outputs": [
        {
          "name": "stdout",
          "output_type": "stream",
          "text": [
            "Average Accuracy on Dev:  0.6164\n",
            "Standard Deviation of Accuracies on Dev:  0.09412385457470364\n",
            "Test Accuracy:  0.736\n"
          ]
        }
      ],
      "source": [
        "print(\"Average Accuracy on Dev: \", avg_acc_max)\n",
        "print(\"Standard Deviation of Accuracies on Dev: \", sd_acc_max)\n",
        "print(\"Test Accuracy: \", test_acc_max)"
      ]
    },
    {
      "cell_type": "markdown",
      "metadata": {
        "id": "DBtdduC2ZNMn"
      },
      "source": [
        "For max pooling, the average accuracy on dev is 0.6164; the standard deviation is 0.0941; the test accuracy is 0.736."
      ]
    },
    {
      "cell_type": "markdown",
      "metadata": {
        "id": "a-0aqnwNyTgj"
      },
      "source": [
        "#### 1.3 Comparison"
      ]
    },
    {
      "cell_type": "markdown",
      "metadata": {
        "id": "AzdVoDLDZUno"
      },
      "source": [
        "| Feature Extraction Method | Mean Accuracy on Dev | Standard Deviation on Dev | Test Accuracy |\n",
        "|---------------------------|----------------------|---------------------------|---------------|\n",
        "| CLS                       | 0.9592               | 0.0068                    | 0.968         |\n",
        "| Mean Pooling              | 0.966                | 0.0058                    | 0.964         |\n",
        "| Max Pooling               | 0.6164               | 0.0941                    | 0.736         |\n"
      ]
    },
    {
      "cell_type": "markdown",
      "metadata": {
        "id": "wjbIz9yKZlbj"
      },
      "source": [
        "Based on the test accuracy, CLS has the best performance with frozen BERT feature."
      ]
    },
    {
      "cell_type": "markdown",
      "metadata": {
        "id": "AkHsXMj3yU32"
      },
      "source": [
        "### 1.4 Finetuning Bert"
      ]
    },
    {
      "cell_type": "markdown",
      "metadata": {
        "id": "A0pwMBVDR71v"
      },
      "source": [
        "CLS"
      ]
    },
    {
      "cell_type": "code",
      "execution_count": null,
      "metadata": {
        "colab": {
          "base_uri": "https://localhost:8080/"
        },
        "id": "vtiY3sQZiI_H",
        "outputId": "924e1918-69b4-4d62-e8c5-f845293872c8"
      },
      "outputs": [
        {
          "data": {
            "text/plain": [
              "0"
            ]
          },
          "execution_count": 20,
          "metadata": {},
          "output_type": "execute_result"
        }
      ],
      "source": [
        "torch.cuda.empty_cache()\n",
        "gc.collect()"
      ]
    },
    {
      "cell_type": "code",
      "execution_count": null,
      "metadata": {
        "colab": {
          "base_uri": "https://localhost:8080/"
        },
        "id": "M-cwVj3cweaI",
        "outputId": "4d0c94f0-f000-4a72-ccfc-6a99fed6a386"
      },
      "outputs": [
        {
          "name": "stderr",
          "output_type": "stream",
          "text": [
            "100%|██████████| 313/313 [01:53<00:00,  2.77it/s]\n",
            "Step 32/32: 100%|██████████| 32/32 [00:03<00:00,  8.22it/s]\n"
          ]
        },
        {
          "name": "stdout",
          "output_type": "stream",
          "text": [
            "dev accuracy: 0.996\n"
          ]
        },
        {
          "name": "stderr",
          "output_type": "stream",
          "text": [
            "100%|██████████| 313/313 [01:52<00:00,  2.79it/s]\n",
            "Step 32/32: 100%|██████████| 32/32 [00:03<00:00,  8.24it/s]\n"
          ]
        },
        {
          "name": "stdout",
          "output_type": "stream",
          "text": [
            "dev accuracy: 0.992\n"
          ]
        },
        {
          "name": "stderr",
          "output_type": "stream",
          "text": [
            "100%|██████████| 313/313 [01:52<00:00,  2.79it/s]\n",
            "Step 32/32: 100%|██████████| 32/32 [00:03<00:00,  8.11it/s]\n"
          ]
        },
        {
          "name": "stdout",
          "output_type": "stream",
          "text": [
            "dev accuracy: 0.988\n"
          ]
        },
        {
          "name": "stderr",
          "output_type": "stream",
          "text": [
            "100%|██████████| 313/313 [01:52<00:00,  2.77it/s]\n",
            "Step 32/32: 100%|██████████| 32/32 [00:03<00:00,  8.27it/s]\n"
          ]
        },
        {
          "name": "stdout",
          "output_type": "stream",
          "text": [
            "dev accuracy: 0.987\n"
          ]
        },
        {
          "name": "stderr",
          "output_type": "stream",
          "text": [
            "100%|██████████| 313/313 [01:52<00:00,  2.78it/s]\n",
            "Step 32/32: 100%|██████████| 32/32 [00:03<00:00,  8.10it/s]\n"
          ]
        },
        {
          "name": "stdout",
          "output_type": "stream",
          "text": [
            "dev accuracy: 0.978\n"
          ]
        },
        {
          "name": "stderr",
          "output_type": "stream",
          "text": [
            "Step 32/32: 100%|██████████| 32/32 [00:03<00:00,  8.35it/s]\n"
          ]
        },
        {
          "name": "stdout",
          "output_type": "stream",
          "text": [
            "test accuracy: 0.992\n"
          ]
        }
      ],
      "source": [
        "avg_acc_cls_ft, sd_acc_cls_ft, test_acc_cls_ft = trials(seeds, params=True)"
      ]
    },
    {
      "cell_type": "code",
      "execution_count": null,
      "metadata": {
        "colab": {
          "base_uri": "https://localhost:8080/"
        },
        "id": "0BGoR0u1PnT6",
        "outputId": "b556b498-3986-4abd-94fb-b4abdd2ee295"
      },
      "outputs": [
        {
          "name": "stdout",
          "output_type": "stream",
          "text": [
            "Average Accuracy on Dev:  0.9882\n",
            "Standard Deviation of Accuracies on Dev:  0.006723094525586226\n",
            "Test Accuracy:  0.992\n"
          ]
        }
      ],
      "source": [
        "print(\"Average Accuracy on Dev: \", avg_acc_cls_ft)\n",
        "print(\"Standard Deviation of Accuracies on Dev: \", sd_acc_cls_ft)\n",
        "print(\"Test Accuracy: \", test_acc_cls_ft)"
      ]
    },
    {
      "cell_type": "markdown",
      "metadata": {
        "id": "FMrb5Z6uR9lx"
      },
      "source": [
        "Mean Pooling"
      ]
    },
    {
      "cell_type": "code",
      "execution_count": null,
      "metadata": {
        "colab": {
          "base_uri": "https://localhost:8080/"
        },
        "id": "XMJ81nruR_P-",
        "outputId": "bfff9d70-4d2f-4738-a5cc-e416e1a8866c"
      },
      "outputs": [
        {
          "name": "stderr",
          "output_type": "stream",
          "text": [
            "100%|██████████| 313/313 [01:51<00:00,  2.81it/s]\n",
            "Step 32/32: 100%|██████████| 32/32 [00:03<00:00,  8.37it/s]\n"
          ]
        },
        {
          "name": "stdout",
          "output_type": "stream",
          "text": [
            "dev accuracy: 0.98\n"
          ]
        },
        {
          "name": "stderr",
          "output_type": "stream",
          "text": [
            "100%|██████████| 313/313 [01:52<00:00,  2.79it/s]\n",
            "Step 32/32: 100%|██████████| 32/32 [00:03<00:00,  8.20it/s]\n"
          ]
        },
        {
          "name": "stdout",
          "output_type": "stream",
          "text": [
            "dev accuracy: 0.99\n"
          ]
        },
        {
          "name": "stderr",
          "output_type": "stream",
          "text": [
            "100%|██████████| 313/313 [01:52<00:00,  2.78it/s]\n",
            "Step 32/32: 100%|██████████| 32/32 [00:03<00:00,  8.26it/s]\n"
          ]
        },
        {
          "name": "stdout",
          "output_type": "stream",
          "text": [
            "dev accuracy: 0.992\n"
          ]
        },
        {
          "name": "stderr",
          "output_type": "stream",
          "text": [
            "100%|██████████| 313/313 [01:53<00:00,  2.77it/s]\n",
            "Step 32/32: 100%|██████████| 32/32 [00:03<00:00,  8.25it/s]\n"
          ]
        },
        {
          "name": "stdout",
          "output_type": "stream",
          "text": [
            "dev accuracy: 0.992\n"
          ]
        },
        {
          "name": "stderr",
          "output_type": "stream",
          "text": [
            "100%|██████████| 313/313 [01:52<00:00,  2.78it/s]\n",
            "Step 32/32: 100%|██████████| 32/32 [00:03<00:00,  8.23it/s]\n"
          ]
        },
        {
          "name": "stdout",
          "output_type": "stream",
          "text": [
            "dev accuracy: 0.988\n"
          ]
        },
        {
          "name": "stderr",
          "output_type": "stream",
          "text": [
            "Step 32/32: 100%|██████████| 32/32 [00:03<00:00,  8.46it/s]\n"
          ]
        },
        {
          "name": "stdout",
          "output_type": "stream",
          "text": [
            "test accuracy: 0.993\n"
          ]
        }
      ],
      "source": [
        "avg_acc_mean_ft, sd_acc_mean_ft, test_acc_mean_ft = trials(seeds, params=True, \n",
        "                                                           pooling=\"mean\")"
      ]
    },
    {
      "cell_type": "code",
      "execution_count": null,
      "metadata": {
        "colab": {
          "base_uri": "https://localhost:8080/"
        },
        "id": "MMKXRQ9TjeWq",
        "outputId": "298b5c97-bdd1-4023-8232-f70f3fe911db"
      },
      "outputs": [
        {
          "name": "stdout",
          "output_type": "stream",
          "text": [
            "Average Accuracy on Dev:  0.9884000000000001\n",
            "Standard Deviation of Accuracies on Dev:  0.004979959839177919\n",
            "Test Accuracy:  0.993\n"
          ]
        }
      ],
      "source": [
        "print(\"Average Accuracy on Dev: \", avg_acc_mean_ft)\n",
        "print(\"Standard Deviation of Accuracies on Dev: \", sd_acc_mean_ft)\n",
        "print(\"Test Accuracy: \", test_acc_mean_ft)"
      ]
    },
    {
      "cell_type": "markdown",
      "metadata": {
        "id": "k61BFMNd6Zmf"
      },
      "source": [
        "Max Pooling"
      ]
    },
    {
      "cell_type": "code",
      "execution_count": null,
      "metadata": {
        "colab": {
          "base_uri": "https://localhost:8080/"
        },
        "id": "v1Eq4kfSYjqA",
        "outputId": "44034bb3-90ed-4df0-891e-0e5ed8fec71a"
      },
      "outputs": [
        {
          "name": "stderr",
          "output_type": "stream",
          "text": [
            "100%|██████████| 313/313 [01:55<00:00,  2.70it/s]\n",
            "Step 32/32: 100%|██████████| 32/32 [00:03<00:00,  8.26it/s]\n"
          ]
        },
        {
          "name": "stdout",
          "output_type": "stream",
          "text": [
            "dev accuracy: 0.991\n"
          ]
        },
        {
          "name": "stderr",
          "output_type": "stream",
          "text": [
            "100%|██████████| 313/313 [01:55<00:00,  2.71it/s]\n",
            "Step 32/32: 100%|██████████| 32/32 [00:03<00:00,  8.05it/s]\n"
          ]
        },
        {
          "name": "stdout",
          "output_type": "stream",
          "text": [
            "dev accuracy: 0.99\n"
          ]
        },
        {
          "name": "stderr",
          "output_type": "stream",
          "text": [
            "100%|██████████| 313/313 [01:55<00:00,  2.71it/s]\n",
            "Step 32/32: 100%|██████████| 32/32 [00:03<00:00,  8.27it/s]\n"
          ]
        },
        {
          "name": "stdout",
          "output_type": "stream",
          "text": [
            "dev accuracy: 0.981\n"
          ]
        },
        {
          "name": "stderr",
          "output_type": "stream",
          "text": [
            "100%|██████████| 313/313 [01:56<00:00,  2.69it/s]\n",
            "Step 32/32: 100%|██████████| 32/32 [00:03<00:00,  8.25it/s]\n"
          ]
        },
        {
          "name": "stdout",
          "output_type": "stream",
          "text": [
            "dev accuracy: 0.977\n"
          ]
        },
        {
          "name": "stderr",
          "output_type": "stream",
          "text": [
            "100%|██████████| 313/313 [01:55<00:00,  2.70it/s]\n",
            "Step 32/32: 100%|██████████| 32/32 [00:03<00:00,  8.11it/s]\n"
          ]
        },
        {
          "name": "stdout",
          "output_type": "stream",
          "text": [
            "dev accuracy: 0.984\n"
          ]
        },
        {
          "name": "stderr",
          "output_type": "stream",
          "text": [
            "Step 32/32: 100%|██████████| 32/32 [00:03<00:00,  8.39it/s]\n"
          ]
        },
        {
          "name": "stdout",
          "output_type": "stream",
          "text": [
            "test accuracy: 0.99\n"
          ]
        }
      ],
      "source": [
        "avg_acc_max_ft, sd_acc_max_ft, test_acc_max_ft = trials(seeds, params=True, \n",
        "                                                        pooling=\"max\")"
      ]
    },
    {
      "cell_type": "code",
      "execution_count": null,
      "metadata": {
        "colab": {
          "base_uri": "https://localhost:8080/"
        },
        "id": "iaMYQbRL6iO0",
        "outputId": "82c4e067-c4cf-49ff-cc8d-896662e3b09a"
      },
      "outputs": [
        {
          "name": "stdout",
          "output_type": "stream",
          "text": [
            "Average Accuracy on Dev:  0.9846\n",
            "Standard Deviation of Accuracies on Dev:  0.005941380311001844\n",
            "Test Accuracy:  0.99\n"
          ]
        }
      ],
      "source": [
        "print(\"Average Accuracy on Dev: \", avg_acc_max_ft)\n",
        "print(\"Standard Deviation of Accuracies on Dev: \", sd_acc_max_ft)\n",
        "print(\"Test Accuracy: \", test_acc_max_ft)"
      ]
    },
    {
      "cell_type": "markdown",
      "metadata": {
        "id": "z5kEgIQxaN_b"
      },
      "source": [
        "| Feature Extraction Method |  Finetune or Frozen       | Mean Accuracy on Dev | Standard Deviation on Dev | Test Accuracy |\n",
        "|---------------------------|-----------------|----------------------|---------------------------|---------------|\n",
        "| CLS                       | Frozen BERT     | 0.9592               | 0.0068                    | 0.968         |\n",
        "| CLS                       | Fine-Tuned BERT | 0.9882               | 0.006723095               | 0.992         |\n",
        "| Mean Pooling              | Frozen BERT     | 0.966                | 0.0058                    | 0.964         |\n",
        "| Mean Pooling              | Fine-Tuned BERT | 0.9884               | 0.00497996                | 0.993         |\n",
        "| Max Pooling               | Frozen BERT     | 0.6164               | 0.0941                    | 0.736         |\n",
        "| Max Pooling               | Fine-Tuned BERT | 0.9846               | 0.00594138                | 0.99          |\n"
      ]
    },
    {
      "cell_type": "markdown",
      "metadata": {
        "id": "tf8Xa4Vua5-f"
      },
      "source": [
        "- Fine-tuning BERT consistently improves performance across all feature extraction methods compared to using frozen features.\n",
        "\n",
        "- CLS and Mean Pooling shows strong performance in both frozen and fine-tuned scenarios, where Mean Pooling has the highest accuracy with finetuned bert.\n",
        "Max Pooling lags behind the other methods, indicating it might be less suitable for this specific task.\n",
        "\n",
        "- Fine-tuning BERT leads to lower standard deviations, implying more stable performance across training runs.\n"
      ]
    },
    {
      "cell_type": "markdown",
      "metadata": {
        "id": "deMNWSVkMJ6i"
      },
      "source": [
        "### 1.5 GPT-2"
      ]
    },
    {
      "cell_type": "markdown",
      "metadata": {
        "id": "zYHIQuvtVtYX"
      },
      "source": [
        "CLS"
      ]
    },
    {
      "cell_type": "code",
      "execution_count": 11,
      "metadata": {
        "id": "u4NUO4yzMTC7"
      },
      "outputs": [],
      "source": [
        "from transformers import GPT2Model, GPT2Tokenizer"
      ]
    },
    {
      "cell_type": "code",
      "execution_count": 13,
      "metadata": {
        "id": "PHkWpz3GQaEJ"
      },
      "outputs": [],
      "source": [
        "def train_classifier_gpt2(seed, datasets, dataloaders, gpt2_model, pooling=\"cls\"):\n",
        "    \"\"\"\n",
        "    Train the classifier.\n",
        "    \"\"\"\n",
        "    torch.manual_seed(seed)\n",
        "\n",
        "    classifier_hidden_size = 32\n",
        "\n",
        "    classifier = Classifier(\n",
        "        gpt2_model.config.hidden_size,\n",
        "        classifier_hidden_size,\n",
        "        datasets['train'].n_classes).to(gpt2_model.device)\n",
        "\n",
        "    classifier.train()\n",
        "\n",
        "\n",
        "    optimizer = torch.optim.Adam(classifier.parameters(), lr=5e-4)\n",
        "\n",
        "\n",
        "    loss_func = nn.CrossEntropyLoss()\n",
        "\n",
        "    pbar = tqdm.tqdm(dataloaders['train'])\n",
        "\n",
        "    for labels, sentences in pbar:\n",
        "        optimizer.zero_grad()\n",
        "\n",
        "        with torch.no_grad():\n",
        "            if pooling == \"cls\":\n",
        "                features = gpt2_model(**sentences)['last_hidden_state'][:, 0, :]\n",
        "\n",
        "            elif pooling == \"mean\":\n",
        "                attention_mask = sentences[\"attention_mask\"]\n",
        "                features = mean_pooling(gpt2_model(**sentences) \\\n",
        "                                        ['last_hidden_state'],\n",
        "                                        attention_mask)\n",
        "\n",
        "            else:\n",
        "                attention_mask = sentences[\"attention_mask\"]\n",
        "                features = max_pooling(gpt2_model(**sentences) \\\n",
        "                                       ['last_hidden_state'],\n",
        "                                       attention_mask)\n",
        "\n",
        "        outputs = classifier(features)\n",
        "        loss = loss_func(outputs, labels)\n",
        "\n",
        "        loss.backward()\n",
        "        optimizer.step()\n",
        "\n",
        "    torch.cuda.empty_cache()\n",
        "    gc.collect()\n",
        "\n",
        "    return classifier, gpt2_model"
      ]
    },
    {
      "cell_type": "code",
      "execution_count": 19,
      "metadata": {
        "id": "LMPx7HTcQt1c"
      },
      "outputs": [],
      "source": [
        "def trials_gpt2(seeds, pooling=\"cls\"):\n",
        "    \"\"\"\n",
        "    Train, evaluate, and test classifier with differet seeds.\n",
        "    \"\"\"\n",
        "    best_acc = 0\n",
        "    best_seed = None\n",
        "    best_classifier = None\n",
        "    acc_sum = 0\n",
        "    acc_sum_x2 = 0\n",
        "    n = len(seeds)\n",
        "    batch_size = 32\n",
        "    tokenizer = GPT2Tokenizer.from_pretrained(\"gpt2\")\n",
        "    tokenizer.pad_token = tokenizer.eos_token\n",
        "\n",
        "\n",
        "    for seed in seeds:\n",
        "        torch.manual_seed(seed)\n",
        "        gpt2_model = GPT2Model.from_pretrained(\"gpt2\")\n",
        "\n",
        "        if torch.cuda.is_available():\n",
        "            torch.cuda.manual_seed_all(seed)\n",
        "            feature_model = gpt2_model.cuda()\n",
        "\n",
        "        datasets, dataloaders = construct_datasets(prefix='dbpedia_',\n",
        "                                                   batch_size=batch_size,\n",
        "                                                   tokenizer=tokenizer,\n",
        "                                                   device=gpt2_model.device)\n",
        "\n",
        "        classifier, feature_model = train_classifier_gpt2(seed, datasets, \n",
        "                                                          dataloaders,\n",
        "                                                          gpt2_model,\n",
        "                                                          pooling=pooling)\n",
        "\n",
        "        acc = eval_classifier(dataloaders, \"dev\", classifier, gpt2_model,\n",
        "                              pooling=pooling)\n",
        "        if acc > best_acc:\n",
        "            best_acc = acc\n",
        "            best_seed = seed\n",
        "            best_classifier = classifier\n",
        "            best_gpt2 = gpt2_model\n",
        "\n",
        "        acc_sum += acc\n",
        "        acc_sum_x2 += acc ** 2\n",
        "        torch.cuda.empty_cache()\n",
        "        gc.collect()\n",
        "\n",
        "\n",
        "    mean = acc_sum / n\n",
        "    var = (acc_sum_x2 - acc_sum**2 / n) / (n - 1)\n",
        "    std = var**0.5\n",
        "\n",
        "    torch.cuda.empty_cache()\n",
        "    gc.collect()\n",
        "\n",
        "    test_acc = eval_classifier(dataloaders, \"test\", best_classifier, best_gpt2,\n",
        "                               pooling=pooling)\n",
        "\n",
        "    return mean, std, test_acc\n"
      ]
    },
    {
      "cell_type": "code",
      "execution_count": 18,
      "metadata": {
        "colab": {
          "base_uri": "https://localhost:8080/"
        },
        "id": "BJe-FhdgT0MA",
        "outputId": "a4260c00-5714-4ac2-b0fa-e4bc26bb508d"
      },
      "outputs": [
        {
          "data": {
            "text/plain": [
              "0"
            ]
          },
          "execution_count": 18,
          "metadata": {},
          "output_type": "execute_result"
        }
      ],
      "source": [
        "torch.cuda.empty_cache()\n",
        "gc.collect()"
      ]
    },
    {
      "cell_type": "code",
      "execution_count": 20,
      "metadata": {
        "colab": {
          "base_uri": "https://localhost:8080/"
        },
        "id": "iew14at-OJtz",
        "outputId": "6722cd0c-8608-4b72-c5f1-0258cdcc9e4c"
      },
      "outputs": [
        {
          "name": "stderr",
          "output_type": "stream",
          "text": [
            "100%|██████████| 313/313 [00:44<00:00,  7.05it/s]\n",
            "Step 32/32: 100%|██████████| 32/32 [00:04<00:00,  7.82it/s]\n"
          ]
        },
        {
          "name": "stdout",
          "output_type": "stream",
          "text": [
            "dev accuracy: 0.215\n"
          ]
        },
        {
          "name": "stderr",
          "output_type": "stream",
          "text": [
            "100%|██████████| 313/313 [00:45<00:00,  6.92it/s]\n",
            "Step 32/32: 100%|██████████| 32/32 [00:04<00:00,  7.05it/s]\n"
          ]
        },
        {
          "name": "stdout",
          "output_type": "stream",
          "text": [
            "dev accuracy: 0.217\n"
          ]
        },
        {
          "name": "stderr",
          "output_type": "stream",
          "text": [
            "100%|██████████| 313/313 [00:44<00:00,  7.03it/s]\n",
            "Step 32/32: 100%|██████████| 32/32 [00:04<00:00,  7.80it/s]\n"
          ]
        },
        {
          "name": "stdout",
          "output_type": "stream",
          "text": [
            "dev accuracy: 0.225\n"
          ]
        },
        {
          "name": "stderr",
          "output_type": "stream",
          "text": [
            "100%|██████████| 313/313 [00:45<00:00,  6.95it/s]\n",
            "Step 32/32: 100%|██████████| 32/32 [00:04<00:00,  7.80it/s]\n"
          ]
        },
        {
          "name": "stdout",
          "output_type": "stream",
          "text": [
            "dev accuracy: 0.222\n"
          ]
        },
        {
          "name": "stderr",
          "output_type": "stream",
          "text": [
            "100%|██████████| 313/313 [00:48<00:00,  6.39it/s]\n",
            "Step 32/32: 100%|██████████| 32/32 [00:05<00:00,  5.40it/s]\n"
          ]
        },
        {
          "name": "stdout",
          "output_type": "stream",
          "text": [
            "dev accuracy: 0.216\n"
          ]
        },
        {
          "name": "stderr",
          "output_type": "stream",
          "text": [
            "Step 32/32: 100%|██████████| 32/32 [00:05<00:00,  6.18it/s]\n"
          ]
        },
        {
          "name": "stdout",
          "output_type": "stream",
          "text": [
            "test accuracy: 0.249\n"
          ]
        }
      ],
      "source": [
        "avg_acc_cls_gpt2, sd_acc_cls_gpt2, test_acc_cls_gpt2 = trials_gpt2(seeds)"
      ]
    },
    {
      "cell_type": "code",
      "execution_count": 21,
      "metadata": {
        "colab": {
          "base_uri": "https://localhost:8080/"
        },
        "id": "seFzm3SkV4MU",
        "outputId": "13856765-5b20-4e6e-d78d-5ddb6eee7746"
      },
      "outputs": [
        {
          "name": "stdout",
          "output_type": "stream",
          "text": [
            "Average Accuracy on Dev:  0.219\n",
            "Standard Deviation of Accuracies on Dev:  0.0043011626335210445\n",
            "Test Accuracy:  0.249\n"
          ]
        }
      ],
      "source": [
        "print(\"Average Accuracy on Dev: \", avg_acc_cls_gpt2)\n",
        "print(\"Standard Deviation of Accuracies on Dev: \", sd_acc_cls_gpt2)\n",
        "print(\"Test Accuracy: \", test_acc_cls_gpt2)"
      ]
    },
    {
      "cell_type": "markdown",
      "metadata": {
        "id": "7EhKkNW4VwFR"
      },
      "source": [
        "Mean Pooling"
      ]
    },
    {
      "cell_type": "code",
      "execution_count": 22,
      "metadata": {
        "colab": {
          "base_uri": "https://localhost:8080/"
        },
        "id": "PSyvSkbfVrTR",
        "outputId": "adc4b432-eb84-4a4c-b905-1c10df13d489"
      },
      "outputs": [
        {
          "name": "stderr",
          "output_type": "stream",
          "text": [
            "100%|██████████| 313/313 [00:55<00:00,  5.61it/s]\n",
            "Step 32/32: 100%|██████████| 32/32 [00:04<00:00,  6.52it/s]\n"
          ]
        },
        {
          "name": "stdout",
          "output_type": "stream",
          "text": [
            "dev accuracy: 0.894\n"
          ]
        },
        {
          "name": "stderr",
          "output_type": "stream",
          "text": [
            "100%|██████████| 313/313 [00:44<00:00,  6.99it/s]\n",
            "Step 32/32: 100%|██████████| 32/32 [00:04<00:00,  7.52it/s]\n"
          ]
        },
        {
          "name": "stdout",
          "output_type": "stream",
          "text": [
            "dev accuracy: 0.896\n"
          ]
        },
        {
          "name": "stderr",
          "output_type": "stream",
          "text": [
            "100%|██████████| 313/313 [00:44<00:00,  7.00it/s]\n",
            "Step 32/32: 100%|██████████| 32/32 [00:04<00:00,  7.76it/s]\n"
          ]
        },
        {
          "name": "stdout",
          "output_type": "stream",
          "text": [
            "dev accuracy: 0.879\n"
          ]
        },
        {
          "name": "stderr",
          "output_type": "stream",
          "text": [
            "100%|██████████| 313/313 [00:45<00:00,  6.91it/s]\n",
            "Step 32/32: 100%|██████████| 32/32 [00:04<00:00,  7.81it/s]\n"
          ]
        },
        {
          "name": "stdout",
          "output_type": "stream",
          "text": [
            "dev accuracy: 0.903\n"
          ]
        },
        {
          "name": "stderr",
          "output_type": "stream",
          "text": [
            "100%|██████████| 313/313 [00:45<00:00,  6.94it/s]\n",
            "Step 32/32: 100%|██████████| 32/32 [00:04<00:00,  7.77it/s]\n"
          ]
        },
        {
          "name": "stdout",
          "output_type": "stream",
          "text": [
            "dev accuracy: 0.895\n"
          ]
        },
        {
          "name": "stderr",
          "output_type": "stream",
          "text": [
            "Step 32/32: 100%|██████████| 32/32 [00:04<00:00,  7.26it/s]\n"
          ]
        },
        {
          "name": "stdout",
          "output_type": "stream",
          "text": [
            "test accuracy: 0.912\n"
          ]
        }
      ],
      "source": [
        "avg_acc_mean_gpt2, sd_acc_mean_gpt2, test_acc_mean_gpt2 = trials_gpt2(seeds, \n",
        "                                                                pooling=\"mean\")"
      ]
    },
    {
      "cell_type": "code",
      "execution_count": 25,
      "metadata": {
        "colab": {
          "base_uri": "https://localhost:8080/"
        },
        "id": "qkzT5yhdV9l7",
        "outputId": "5cbec6cd-5374-4c50-9949-ee6a49445448"
      },
      "outputs": [
        {
          "name": "stdout",
          "output_type": "stream",
          "text": [
            "Average Accuracy on Dev:  0.8934000000000001\n",
            "Standard Deviation of Accuracies on Dev:  0.008792041856130285\n",
            "Test Accuracy:  0.912\n"
          ]
        }
      ],
      "source": [
        "print(\"Average Accuracy on Dev: \", avg_acc_mean_gpt2)\n",
        "print(\"Standard Deviation of Accuracies on Dev: \", sd_acc_mean_gpt2)\n",
        "print(\"Test Accuracy: \", test_acc_mean_gpt2)"
      ]
    },
    {
      "cell_type": "markdown",
      "metadata": {
        "id": "F12gS4TLWBc2"
      },
      "source": [
        "Max Pooling"
      ]
    },
    {
      "cell_type": "code",
      "execution_count": 23,
      "metadata": {
        "colab": {
          "base_uri": "https://localhost:8080/"
        },
        "id": "Hu-9ctL_V9jP",
        "outputId": "b6f501ab-a15f-42b6-ad7c-eab0b1092c88"
      },
      "outputs": [
        {
          "name": "stderr",
          "output_type": "stream",
          "text": [
            "100%|██████████| 313/313 [00:46<00:00,  6.78it/s]\n",
            "Step 32/32: 100%|██████████| 32/32 [00:04<00:00,  7.70it/s]\n"
          ]
        },
        {
          "name": "stdout",
          "output_type": "stream",
          "text": [
            "dev accuracy: 0.516\n"
          ]
        },
        {
          "name": "stderr",
          "output_type": "stream",
          "text": [
            "100%|██████████| 313/313 [00:44<00:00,  6.98it/s]\n",
            "Step 32/32: 100%|██████████| 32/32 [00:04<00:00,  7.81it/s]\n"
          ]
        },
        {
          "name": "stdout",
          "output_type": "stream",
          "text": [
            "dev accuracy: 0.664\n"
          ]
        },
        {
          "name": "stderr",
          "output_type": "stream",
          "text": [
            "100%|██████████| 313/313 [00:44<00:00,  7.01it/s]\n",
            "Step 32/32: 100%|██████████| 32/32 [00:04<00:00,  7.78it/s]\n"
          ]
        },
        {
          "name": "stdout",
          "output_type": "stream",
          "text": [
            "dev accuracy: 0.34\n"
          ]
        },
        {
          "name": "stderr",
          "output_type": "stream",
          "text": [
            "100%|██████████| 313/313 [00:45<00:00,  6.95it/s]\n",
            "Step 32/32: 100%|██████████| 32/32 [00:04<00:00,  7.52it/s]\n"
          ]
        },
        {
          "name": "stdout",
          "output_type": "stream",
          "text": [
            "dev accuracy: 0.601\n"
          ]
        },
        {
          "name": "stderr",
          "output_type": "stream",
          "text": [
            "100%|██████████| 313/313 [00:44<00:00,  7.00it/s]\n",
            "Step 32/32: 100%|██████████| 32/32 [00:04<00:00,  7.69it/s]\n"
          ]
        },
        {
          "name": "stdout",
          "output_type": "stream",
          "text": [
            "dev accuracy: 0.574\n"
          ]
        },
        {
          "name": "stderr",
          "output_type": "stream",
          "text": [
            "Step 32/32: 100%|██████████| 32/32 [00:04<00:00,  7.64it/s]"
          ]
        },
        {
          "name": "stdout",
          "output_type": "stream",
          "text": [
            "test accuracy: 0.656\n"
          ]
        },
        {
          "name": "stderr",
          "output_type": "stream",
          "text": [
            "\n"
          ]
        }
      ],
      "source": [
        "avg_acc_max_gpt2, sd_acc_max_gpt2, test_acc_max_gpt2 = trials_gpt2(seeds, \n",
        "                                                                pooling=\"max\")"
      ]
    },
    {
      "cell_type": "code",
      "execution_count": 24,
      "metadata": {
        "colab": {
          "base_uri": "https://localhost:8080/"
        },
        "id": "iSfrsaJgV9Z2",
        "outputId": "905421a2-3145-44a3-9535-3dbbdf6e73e0"
      },
      "outputs": [
        {
          "name": "stdout",
          "output_type": "stream",
          "text": [
            "Average Accuracy on Dev:  0.539\n",
            "Standard Deviation of Accuracies on Dev:  0.12331261087171858\n",
            "Test Accuracy:  0.656\n"
          ]
        }
      ],
      "source": [
        "print(\"Average Accuracy on Dev: \", avg_acc_max_gpt2)\n",
        "print(\"Standard Deviation of Accuracies on Dev: \", sd_acc_max_gpt2)\n",
        "print(\"Test Accuracy: \", test_acc_max_gpt2)"
      ]
    },
    {
      "cell_type": "markdown",
      "metadata": {
        "id": "yJ6KNqdHYa62"
      },
      "source": [
        "| Feature Extraction Method | Mean Accuracy on Dev | Standard Deviation on Dev | Test Accuracy |\n",
        "|---------------------------|----------------------|---------------------------|---------------|\n",
        "| CLS                       | 0.219                | 0.004301163               | 0.249         |\n",
        "| Mean Pooling              | 0.8934               | 0.008792042               | 0.912         |\n",
        "| Max Pooling               | 0.539                | 0.123312611               | 0.656         |\n"
      ]
    }
  ],
  "metadata": {
    "accelerator": "GPU",
    "colab": {
      "gpuType": "T4",
      "provenance": []
    },
    "kernelspec": {
      "display_name": "Python 3",
      "name": "python3"
    },
    "language_info": {
      "codemirror_mode": {
        "name": "ipython",
        "version": 3
      },
      "file_extension": ".py",
      "mimetype": "text/x-python",
      "name": "python",
      "nbconvert_exporter": "python",
      "pygments_lexer": "ipython3",
      "version": "3.10.9"
    },
    "vscode": {
      "interpreter": {
        "hash": "31f2aee4e71d21fbe5cf8b01ff0e069b9275f58929596ceb00d14d90e3e16cd6"
      }
    }
  },
  "nbformat": 4,
  "nbformat_minor": 0
}
