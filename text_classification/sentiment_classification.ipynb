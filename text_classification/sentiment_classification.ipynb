{
 "cells": [
  {
   "cell_type": "markdown",
   "metadata": {},
   "source": [
    "## Sentiment Classification with Logistic Regression\n",
    "Yingzi Jin\n"
   ]
  },
  {
   "cell_type": "markdown",
   "metadata": {},
   "source": [
    "### Task\n",
    "- **Goal**:\n",
    "    \n",
    "    In this project, I will practice supervised learning by training a binary classification model to identify whether a tweet about FIFA 2022 World Cup is positive or negative.\n",
    "\n",
    "- **Chapters**:\n",
    "    1. Data <br>\n",
    "        1.1 Data Exploration <br>\n",
    "        1.2 Data Preprocessing\n",
    "    \n",
    "    2. Model <br>\n",
    "        2.1 Model Introduction <br>\n",
    "        2.2 Model Training & Tuning <br>\n",
    "        2.3 Model Performance\n",
    "    \n",
    "    3. Result Analysis <br> \n",
    "        3.1 Model Performance Interpretation <br>\n",
    "        3.2 Error Analysis\n",
    "    \n",
    "\n",
    "    "
   ]
  },
  {
   "cell_type": "markdown",
   "metadata": {},
   "source": []
  },
  {
   "cell_type": "markdown",
   "metadata": {},
   "source": [
    "### Import Libraries"
   ]
  },
  {
   "cell_type": "code",
   "execution_count": 1,
   "metadata": {},
   "outputs": [],
   "source": [
    "import pandas as pd\n",
    "import numpy as np\n",
    "import re\n",
    "import contractions\n",
    "import nltk\n",
    "import matplotlib.pyplot as plt"
   ]
  },
  {
   "cell_type": "markdown",
   "metadata": {},
   "source": [
    "### DATA\n",
    "\n",
    "#### 1.1 Data Exploration\n",
    "\n",
    "Data Source: https://www.kaggle.com/datasets/tirendazacademy/fifa-world-cup-2022-tweets\n",
    "\n",
    "Content: Tweets from the first day of the FIFA World Cup 2022\n",
    "\n",
    "\n"
   ]
  },
  {
   "cell_type": "code",
   "execution_count": 2,
   "metadata": {},
   "outputs": [],
   "source": [
    "# load dataset as pandas dataframe\n",
    "df = pd.read_csv(\"fifa_world_cup_2022_tweets.csv\")"
   ]
  },
  {
   "cell_type": "markdown",
   "metadata": {},
   "source": [
    "Original Data Size: 22524 rows, 6 features"
   ]
  },
  {
   "cell_type": "code",
   "execution_count": 3,
   "metadata": {},
   "outputs": [
    {
     "data": {
      "text/plain": [
       "(22524, 6)"
      ]
     },
     "execution_count": 3,
     "metadata": {},
     "output_type": "execute_result"
    }
   ],
   "source": [
    "df.shape"
   ]
  },
  {
   "cell_type": "code",
   "execution_count": 4,
   "metadata": {},
   "outputs": [
    {
     "data": {
      "text/html": [
       "<div>\n",
       "<style scoped>\n",
       "    .dataframe tbody tr th:only-of-type {\n",
       "        vertical-align: middle;\n",
       "    }\n",
       "\n",
       "    .dataframe tbody tr th {\n",
       "        vertical-align: top;\n",
       "    }\n",
       "\n",
       "    .dataframe thead th {\n",
       "        text-align: right;\n",
       "    }\n",
       "</style>\n",
       "<table border=\"1\" class=\"dataframe\">\n",
       "  <thead>\n",
       "    <tr style=\"text-align: right;\">\n",
       "      <th></th>\n",
       "      <th>Unnamed: 0</th>\n",
       "      <th>Date Created</th>\n",
       "      <th>Number of Likes</th>\n",
       "      <th>Source of Tweet</th>\n",
       "      <th>Tweet</th>\n",
       "      <th>Sentiment</th>\n",
       "    </tr>\n",
       "  </thead>\n",
       "  <tbody>\n",
       "    <tr>\n",
       "      <th>0</th>\n",
       "      <td>0</td>\n",
       "      <td>2022-11-20 23:59:21+00:00</td>\n",
       "      <td>4</td>\n",
       "      <td>Twitter Web App</td>\n",
       "      <td>What are we drinking today @TucanTribe \\n@MadB...</td>\n",
       "      <td>neutral</td>\n",
       "    </tr>\n",
       "    <tr>\n",
       "      <th>1</th>\n",
       "      <td>1</td>\n",
       "      <td>2022-11-20 23:59:01+00:00</td>\n",
       "      <td>3</td>\n",
       "      <td>Twitter for iPhone</td>\n",
       "      <td>Amazing @CanadaSoccerEN  #WorldCup2022 launch ...</td>\n",
       "      <td>positive</td>\n",
       "    </tr>\n",
       "    <tr>\n",
       "      <th>2</th>\n",
       "      <td>2</td>\n",
       "      <td>2022-11-20 23:58:41+00:00</td>\n",
       "      <td>1</td>\n",
       "      <td>Twitter for iPhone</td>\n",
       "      <td>Worth reading while watching #WorldCup2022 htt...</td>\n",
       "      <td>positive</td>\n",
       "    </tr>\n",
       "    <tr>\n",
       "      <th>3</th>\n",
       "      <td>3</td>\n",
       "      <td>2022-11-20 23:58:33+00:00</td>\n",
       "      <td>1</td>\n",
       "      <td>Twitter Web App</td>\n",
       "      <td>Golden Maknae shinning bright\\n\\nhttps://t.co/...</td>\n",
       "      <td>positive</td>\n",
       "    </tr>\n",
       "    <tr>\n",
       "      <th>4</th>\n",
       "      <td>4</td>\n",
       "      <td>2022-11-20 23:58:28+00:00</td>\n",
       "      <td>0</td>\n",
       "      <td>Twitter for Android</td>\n",
       "      <td>If the BBC cares so much about human rights, h...</td>\n",
       "      <td>negative</td>\n",
       "    </tr>\n",
       "  </tbody>\n",
       "</table>\n",
       "</div>"
      ],
      "text/plain": [
       "   Unnamed: 0               Date Created  Number of Likes  \\\n",
       "0           0  2022-11-20 23:59:21+00:00                4   \n",
       "1           1  2022-11-20 23:59:01+00:00                3   \n",
       "2           2  2022-11-20 23:58:41+00:00                1   \n",
       "3           3  2022-11-20 23:58:33+00:00                1   \n",
       "4           4  2022-11-20 23:58:28+00:00                0   \n",
       "\n",
       "       Source of Tweet                                              Tweet  \\\n",
       "0      Twitter Web App  What are we drinking today @TucanTribe \\n@MadB...   \n",
       "1   Twitter for iPhone  Amazing @CanadaSoccerEN  #WorldCup2022 launch ...   \n",
       "2   Twitter for iPhone  Worth reading while watching #WorldCup2022 htt...   \n",
       "3      Twitter Web App  Golden Maknae shinning bright\\n\\nhttps://t.co/...   \n",
       "4  Twitter for Android  If the BBC cares so much about human rights, h...   \n",
       "\n",
       "  Sentiment  \n",
       "0   neutral  \n",
       "1  positive  \n",
       "2  positive  \n",
       "3  positive  \n",
       "4  negative  "
      ]
     },
     "execution_count": 4,
     "metadata": {},
     "output_type": "execute_result"
    }
   ],
   "source": [
    "# first five rows of the dataframe\n",
    "df.head()\n"
   ]
  },
  {
   "cell_type": "code",
   "execution_count": 5,
   "metadata": {},
   "outputs": [
    {
     "data": {
      "text/html": [
       "<div>\n",
       "<style scoped>\n",
       "    .dataframe tbody tr th:only-of-type {\n",
       "        vertical-align: middle;\n",
       "    }\n",
       "\n",
       "    .dataframe tbody tr th {\n",
       "        vertical-align: top;\n",
       "    }\n",
       "\n",
       "    .dataframe thead th {\n",
       "        text-align: right;\n",
       "    }\n",
       "</style>\n",
       "<table border=\"1\" class=\"dataframe\">\n",
       "  <thead>\n",
       "    <tr style=\"text-align: right;\">\n",
       "      <th></th>\n",
       "      <th>Unnamed: 0</th>\n",
       "      <th>Date Created</th>\n",
       "      <th>Number of Likes</th>\n",
       "      <th>Source of Tweet</th>\n",
       "      <th>Tweet</th>\n",
       "      <th>Sentiment</th>\n",
       "    </tr>\n",
       "  </thead>\n",
       "  <tbody>\n",
       "    <tr>\n",
       "      <th>22519</th>\n",
       "      <td>22519</td>\n",
       "      <td>2022-11-20 00:00:21+00:00</td>\n",
       "      <td>1</td>\n",
       "      <td>Twitter Web App</td>\n",
       "      <td>Here We go World cup 2022 #WorldCup2022</td>\n",
       "      <td>positive</td>\n",
       "    </tr>\n",
       "    <tr>\n",
       "      <th>22520</th>\n",
       "      <td>22520</td>\n",
       "      <td>2022-11-20 00:00:03+00:00</td>\n",
       "      <td>0</td>\n",
       "      <td>DenetPro</td>\n",
       "      <td>Anderlecht confirms former Viborg FF's Jesper ...</td>\n",
       "      <td>neutral</td>\n",
       "    </tr>\n",
       "    <tr>\n",
       "      <th>22521</th>\n",
       "      <td>22521</td>\n",
       "      <td>2022-11-20 00:00:01+00:00</td>\n",
       "      <td>2</td>\n",
       "      <td>Twitter for iPhone</td>\n",
       "      <td>Great thread to read before the start of #Worl...</td>\n",
       "      <td>positive</td>\n",
       "    </tr>\n",
       "    <tr>\n",
       "      <th>22522</th>\n",
       "      <td>22522</td>\n",
       "      <td>2022-11-20 00:00:00+00:00</td>\n",
       "      <td>11</td>\n",
       "      <td>Twitter Web App</td>\n",
       "      <td>Raphinha wants Brazil to be united at the #Wor...</td>\n",
       "      <td>positive</td>\n",
       "    </tr>\n",
       "    <tr>\n",
       "      <th>22523</th>\n",
       "      <td>22523</td>\n",
       "      <td>2022-11-20 00:00:00+00:00</td>\n",
       "      <td>24</td>\n",
       "      <td>Twitter Web App</td>\n",
       "      <td>How to buy $SOT on PinkSale?🤔\\n\\nHave you been...</td>\n",
       "      <td>neutral</td>\n",
       "    </tr>\n",
       "  </tbody>\n",
       "</table>\n",
       "</div>"
      ],
      "text/plain": [
       "       Unnamed: 0               Date Created  Number of Likes  \\\n",
       "22519       22519  2022-11-20 00:00:21+00:00                1   \n",
       "22520       22520  2022-11-20 00:00:03+00:00                0   \n",
       "22521       22521  2022-11-20 00:00:01+00:00                2   \n",
       "22522       22522  2022-11-20 00:00:00+00:00               11   \n",
       "22523       22523  2022-11-20 00:00:00+00:00               24   \n",
       "\n",
       "          Source of Tweet                                              Tweet  \\\n",
       "22519     Twitter Web App            Here We go World cup 2022 #WorldCup2022   \n",
       "22520            DenetPro  Anderlecht confirms former Viborg FF's Jesper ...   \n",
       "22521  Twitter for iPhone  Great thread to read before the start of #Worl...   \n",
       "22522     Twitter Web App  Raphinha wants Brazil to be united at the #Wor...   \n",
       "22523     Twitter Web App  How to buy $SOT on PinkSale?🤔\\n\\nHave you been...   \n",
       "\n",
       "      Sentiment  \n",
       "22519  positive  \n",
       "22520   neutral  \n",
       "22521  positive  \n",
       "22522  positive  \n",
       "22523   neutral  "
      ]
     },
     "execution_count": 5,
     "metadata": {},
     "output_type": "execute_result"
    }
   ],
   "source": [
    "# last five rows of the dataframe\n",
    "df.tail()"
   ]
  },
  {
   "cell_type": "code",
   "execution_count": 6,
   "metadata": {},
   "outputs": [
    {
     "data": {
      "text/plain": [
       "(8489, 6)"
      ]
     },
     "execution_count": 6,
     "metadata": {},
     "output_type": "execute_result"
    }
   ],
   "source": [
    "# number of rows labeled as positive\n",
    "df[df['Sentiment'] == 'positive'].shape"
   ]
  },
  {
   "cell_type": "code",
   "execution_count": 7,
   "metadata": {},
   "outputs": [
    {
     "data": {
      "text/plain": [
       "(5784, 6)"
      ]
     },
     "execution_count": 7,
     "metadata": {},
     "output_type": "execute_result"
    }
   ],
   "source": [
    "# number of rows labeled as negative\n",
    "df[df['Sentiment'] == 'negative'].shape"
   ]
  },
  {
   "cell_type": "code",
   "execution_count": 8,
   "metadata": {},
   "outputs": [
    {
     "data": {
      "text/plain": [
       "(8251, 6)"
      ]
     },
     "execution_count": 8,
     "metadata": {},
     "output_type": "execute_result"
    }
   ],
   "source": [
    "df[df['Sentiment'] == 'neutral'].shape"
   ]
  },
  {
   "cell_type": "code",
   "execution_count": 24,
   "metadata": {},
   "outputs": [
    {
     "data": {
      "text/plain": [
       "<AxesSubplot:>"
      ]
     },
     "execution_count": 24,
     "metadata": {},
     "output_type": "execute_result"
    },
    {
     "data": {
      "image/png": "[encoded data removed]",
      "text/plain": [
       "<Figure size 640x480 with 1 Axes>"
      ]
     },
     "metadata": {},
     "output_type": "display_data"
    }
   ],
   "source": [
    "plotdata = pd.DataFrame({'num': [8489, 5784, 8251]}, index=['positive', 'negative', 'neutral'])\n",
    "plotdata['num'].plot(kind='bar')"
   ]
  },
  {
   "cell_type": "markdown",
   "metadata": {},
   "source": [
    "Based on the examples above, we can see that the six features of this dataset are the following:\n",
    "\n",
    "1. Index (numerical)\n",
    "2. Date Created (categorical)\n",
    "3. Number of Likes (numerical)\n",
    "4. Source of Tweet (categorical)\n",
    "5. Tweet (text)\n",
    "6. Sentiment (categorical)\n",
    "\n",
    "There are 8489 tweets are labeled as positive, 5784 as negative, and 8251 as neutral."
   ]
  },
  {
   "cell_type": "markdown",
   "metadata": {},
   "source": [
    "#### 1.2 Data Preprocessing\n",
    "\n",
    "1.2.1 Extract the information that will be used <br>\n",
    "- In this project, only the tweets and the sentiments labeled to tweets will be used.\n",
    "- Additionally, although the labeled sentiments have three categories (positive, neutral, and negative), it is essentially a binary classification task. Therefore, we only need to keep rows labeled as positive or negative.\n"
   ]
  },
  {
   "cell_type": "code",
   "execution_count": 13,
   "metadata": {},
   "outputs": [],
   "source": [
    "# extract the columns that will be used \n",
    "df = df[['Tweet', 'Sentiment']]"
   ]
  },
  {
   "cell_type": "code",
   "execution_count": 14,
   "metadata": {},
   "outputs": [],
   "source": [
    "# extract rows labeled as positive or negative \n",
    "df = df[df['Sentiment'] != 'neutral']"
   ]
  },
  {
   "cell_type": "markdown",
   "metadata": {},
   "source": [
    "1.2.2. Check and remove null value "
   ]
  },
  {
   "cell_type": "code",
   "execution_count": 15,
   "metadata": {},
   "outputs": [
    {
     "data": {
      "text/plain": [
       "Tweet        0\n",
       "Sentiment    0\n",
       "dtype: int64"
      ]
     },
     "execution_count": 15,
     "metadata": {},
     "output_type": "execute_result"
    }
   ],
   "source": [
    "# check null values\n",
    "df.isnull().sum()"
   ]
  },
  {
   "cell_type": "markdown",
   "metadata": {},
   "source": [
    "We can see that there is no null value in our dataframe. Therefore, we do not need to remove any rows."
   ]
  },
  {
   "cell_type": "markdown",
   "metadata": {},
   "source": [
    "1.2.3. Convert categorical sentiment to numerical \n",
    "- The value of the targeted column should be converted to numerical for model application later.\n",
    "- 1 represents positive, 0 represents negative"
   ]
  },
  {
   "cell_type": "code",
   "execution_count": 16,
   "metadata": {},
   "outputs": [],
   "source": [
    "df['Sentiment'].replace(['negative', 'positive'], [0, 1], inplace=True)"
   ]
  },
  {
   "cell_type": "code",
   "execution_count": 17,
   "metadata": {},
   "outputs": [
    {
     "data": {
      "text/html": [
       "<div>\n",
       "<style scoped>\n",
       "    .dataframe tbody tr th:only-of-type {\n",
       "        vertical-align: middle;\n",
       "    }\n",
       "\n",
       "    .dataframe tbody tr th {\n",
       "        vertical-align: top;\n",
       "    }\n",
       "\n",
       "    .dataframe thead th {\n",
       "        text-align: right;\n",
       "    }\n",
       "</style>\n",
       "<table border=\"1\" class=\"dataframe\">\n",
       "  <thead>\n",
       "    <tr style=\"text-align: right;\">\n",
       "      <th></th>\n",
       "      <th>Tweet</th>\n",
       "      <th>Sentiment</th>\n",
       "    </tr>\n",
       "  </thead>\n",
       "  <tbody>\n",
       "    <tr>\n",
       "      <th>1</th>\n",
       "      <td>Amazing @CanadaSoccerEN  #WorldCup2022 launch ...</td>\n",
       "      <td>1</td>\n",
       "    </tr>\n",
       "    <tr>\n",
       "      <th>2</th>\n",
       "      <td>Worth reading while watching #WorldCup2022 htt...</td>\n",
       "      <td>1</td>\n",
       "    </tr>\n",
       "    <tr>\n",
       "      <th>3</th>\n",
       "      <td>Golden Maknae shinning bright\\n\\nhttps://t.co/...</td>\n",
       "      <td>1</td>\n",
       "    </tr>\n",
       "    <tr>\n",
       "      <th>4</th>\n",
       "      <td>If the BBC cares so much about human rights, h...</td>\n",
       "      <td>0</td>\n",
       "    </tr>\n",
       "    <tr>\n",
       "      <th>5</th>\n",
       "      <td>And like, will the mexican fans be able to scr...</td>\n",
       "      <td>0</td>\n",
       "    </tr>\n",
       "  </tbody>\n",
       "</table>\n",
       "</div>"
      ],
      "text/plain": [
       "                                               Tweet  Sentiment\n",
       "1  Amazing @CanadaSoccerEN  #WorldCup2022 launch ...          1\n",
       "2  Worth reading while watching #WorldCup2022 htt...          1\n",
       "3  Golden Maknae shinning bright\\n\\nhttps://t.co/...          1\n",
       "4  If the BBC cares so much about human rights, h...          0\n",
       "5  And like, will the mexican fans be able to scr...          0"
      ]
     },
     "execution_count": 17,
     "metadata": {},
     "output_type": "execute_result"
    }
   ],
   "source": [
    "# check the dataframe \n",
    "df.head()"
   ]
  },
  {
   "cell_type": "markdown",
   "metadata": {},
   "source": [
    "1.2.4. Text cleaning\n",
    "- Tweets contain a lot of information that is either not relevent to the content (e.g., @user, urls, ...) or too messy to be processed later (e.g., punctuations, contractions, ...)\n",
    "- In this sections, we will clean the text based on the following rules:\n",
    "    - Remove @user, urls, #hashtags, emojis, punctuations, numbers\n",
    "    - Fix contractions (e.g., \"can't\" -> \"cannot\")"
   ]
  },
  {
   "cell_type": "code",
   "execution_count": 18,
   "metadata": {},
   "outputs": [],
   "source": [
    "# make all text lowercase\n",
    "tweet = df['Tweet'].str.lower()\n",
    "clean_text = []\n",
    "\n",
    "# clean text\n",
    "for t in tweet:\n",
    "    # remove \\n\n",
    "    clean_t = re.sub(r\"\\n\", \" \", t)\n",
    "    # remove @account\n",
    "    clean_t = re.sub(r\"@[^\\s]+\", \"\", clean_t)\n",
    "    # remove hashtag\n",
    "    clean_t = re.sub(r\"#[^\\s]+\", \"\", clean_t)\n",
    "    # remove urls\n",
    "    clean_t = re.sub(r\"(www[^\\s]+) | (http[^\\s]+)\", \"\", clean_t)\n",
    "    # remove &amp\n",
    "    clean_t = re.sub(r\"&amp\", \"\", clean_t)\n",
    "    # fix contractions\n",
    "    clean_t = contractions.fix(clean_t)\n",
    "    # remove punctuations\n",
    "    clean_t = re.sub(\"[^a-z0-9]\", \" \", clean_t)\n",
    "    # remove numbers\n",
    "    clean_t = re.sub(r\"\\d+\", \"\", clean_t)\n",
    "   \n",
    "    clean_text.append(clean_t)"
   ]
  },
  {
   "cell_type": "code",
   "execution_count": 19,
   "metadata": {},
   "outputs": [
    {
     "data": {
      "text/html": [
       "<div>\n",
       "<style scoped>\n",
       "    .dataframe tbody tr th:only-of-type {\n",
       "        vertical-align: middle;\n",
       "    }\n",
       "\n",
       "    .dataframe tbody tr th {\n",
       "        vertical-align: top;\n",
       "    }\n",
       "\n",
       "    .dataframe thead th {\n",
       "        text-align: right;\n",
       "    }\n",
       "</style>\n",
       "<table border=\"1\" class=\"dataframe\">\n",
       "  <thead>\n",
       "    <tr style=\"text-align: right;\">\n",
       "      <th></th>\n",
       "      <th>Tweet</th>\n",
       "      <th>Sentiment</th>\n",
       "      <th>clean_tweet</th>\n",
       "    </tr>\n",
       "  </thead>\n",
       "  <tbody>\n",
       "    <tr>\n",
       "      <th>1</th>\n",
       "      <td>Amazing @CanadaSoccerEN  #WorldCup2022 launch ...</td>\n",
       "      <td>1</td>\n",
       "      <td>amazing    launch video  shows how much the fa...</td>\n",
       "    </tr>\n",
       "    <tr>\n",
       "      <th>2</th>\n",
       "      <td>Worth reading while watching #WorldCup2022 htt...</td>\n",
       "      <td>1</td>\n",
       "      <td>worth reading while watching</td>\n",
       "    </tr>\n",
       "    <tr>\n",
       "      <th>3</th>\n",
       "      <td>Golden Maknae shinning bright\\n\\nhttps://t.co/...</td>\n",
       "      <td>1</td>\n",
       "      <td>golden maknae shinning bright</td>\n",
       "    </tr>\n",
       "    <tr>\n",
       "      <th>4</th>\n",
       "      <td>If the BBC cares so much about human rights, h...</td>\n",
       "      <td>0</td>\n",
       "      <td>if the bbc cares so much about human rights  h...</td>\n",
       "    </tr>\n",
       "    <tr>\n",
       "      <th>5</th>\n",
       "      <td>And like, will the mexican fans be able to scr...</td>\n",
       "      <td>0</td>\n",
       "      <td>and like  will the mexican fans be able to scr...</td>\n",
       "    </tr>\n",
       "  </tbody>\n",
       "</table>\n",
       "</div>"
      ],
      "text/plain": [
       "                                               Tweet  Sentiment  \\\n",
       "1  Amazing @CanadaSoccerEN  #WorldCup2022 launch ...          1   \n",
       "2  Worth reading while watching #WorldCup2022 htt...          1   \n",
       "3  Golden Maknae shinning bright\\n\\nhttps://t.co/...          1   \n",
       "4  If the BBC cares so much about human rights, h...          0   \n",
       "5  And like, will the mexican fans be able to scr...          0   \n",
       "\n",
       "                                         clean_tweet  \n",
       "1  amazing    launch video  shows how much the fa...  \n",
       "2                      worth reading while watching   \n",
       "3      golden maknae shinning bright                  \n",
       "4  if the bbc cares so much about human rights  h...  \n",
       "5  and like  will the mexican fans be able to scr...  "
      ]
     },
     "execution_count": 19,
     "metadata": {},
     "output_type": "execute_result"
    }
   ],
   "source": [
    "# add cleaned text into our dataframe\n",
    "df[\"clean_tweet\"] = clean_text\n",
    "df.head()"
   ]
  },
  {
   "cell_type": "code",
   "execution_count": 92,
   "metadata": {},
   "outputs": [
    {
     "data": {
      "text/html": [
       "<div>\n",
       "<style scoped>\n",
       "    .dataframe tbody tr th:only-of-type {\n",
       "        vertical-align: middle;\n",
       "    }\n",
       "\n",
       "    .dataframe tbody tr th {\n",
       "        vertical-align: top;\n",
       "    }\n",
       "\n",
       "    .dataframe thead th {\n",
       "        text-align: right;\n",
       "    }\n",
       "</style>\n",
       "<table border=\"1\" class=\"dataframe\">\n",
       "  <thead>\n",
       "    <tr style=\"text-align: right;\">\n",
       "      <th></th>\n",
       "      <th>clean_tweet</th>\n",
       "      <th>Sentiment</th>\n",
       "    </tr>\n",
       "  </thead>\n",
       "  <tbody>\n",
       "    <tr>\n",
       "      <th>1</th>\n",
       "      <td>amazing    launch video  shows how much the fa...</td>\n",
       "      <td>1</td>\n",
       "    </tr>\n",
       "    <tr>\n",
       "      <th>2</th>\n",
       "      <td>worth reading while watching</td>\n",
       "      <td>1</td>\n",
       "    </tr>\n",
       "    <tr>\n",
       "      <th>3</th>\n",
       "      <td>golden maknae shinning bright</td>\n",
       "      <td>1</td>\n",
       "    </tr>\n",
       "    <tr>\n",
       "      <th>4</th>\n",
       "      <td>if the bbc cares so much about human rights  h...</td>\n",
       "      <td>0</td>\n",
       "    </tr>\n",
       "    <tr>\n",
       "      <th>5</th>\n",
       "      <td>and like  will the mexican fans be able to scr...</td>\n",
       "      <td>0</td>\n",
       "    </tr>\n",
       "  </tbody>\n",
       "</table>\n",
       "</div>"
      ],
      "text/plain": [
       "                                         clean_tweet  Sentiment\n",
       "1  amazing    launch video  shows how much the fa...          1\n",
       "2                      worth reading while watching           1\n",
       "3      golden maknae shinning bright                          1\n",
       "4  if the bbc cares so much about human rights  h...          0\n",
       "5  and like  will the mexican fans be able to scr...          0"
      ]
     },
     "execution_count": 92,
     "metadata": {},
     "output_type": "execute_result"
    }
   ],
   "source": [
    "df[['clean_tweet', 'Sentiment']].head()"
   ]
  },
  {
   "cell_type": "markdown",
   "metadata": {},
   "source": [
    "1.2.5. Text transformation\n",
    "- Tokenization\n",
    "    - It is a process that converts a text string to a list of tokens (which is the smallest unit of machine learning)\n",
    "- Lemmentization\n",
    "    - It is to use lexical based knowledge to get the base forms of words instead of simply chop off inflections. \n",
    "\n",
    "In this project, I will be using tokenization and lemmentization to break down texts. The reason why lemmentization is preferred rather than stemming is that stemming is more likely to produce non-sense tokens, while lemmentization follows lexical rules. "
   ]
  },
  {
   "cell_type": "code",
   "execution_count": 25,
   "metadata": {},
   "outputs": [],
   "source": [
    "from nltk import word_tokenize\n",
    "from nltk.stem import WordNetLemmatizer "
   ]
  },
  {
   "cell_type": "code",
   "execution_count": 44,
   "metadata": {},
   "outputs": [
    {
     "name": "stderr",
     "output_type": "stream",
     "text": [
      "[nltk_data] Downloading package punkt to /Users/axyz1220/nltk_data...\n",
      "[nltk_data]   Package punkt is already up-to-date!\n",
      "[nltk_data] Downloading package wordnet to\n",
      "[nltk_data]     /Users/axyz1220/nltk_data...\n",
      "[nltk_data]   Package wordnet is already up-to-date!\n",
      "[nltk_data] Downloading package omw-1.4 to\n",
      "[nltk_data]     /Users/axyz1220/nltk_data...\n",
      "[nltk_data]   Package omw-1.4 is already up-to-date!\n"
     ]
    },
    {
     "data": {
      "text/plain": [
       "True"
      ]
     },
     "execution_count": 44,
     "metadata": {},
     "output_type": "execute_result"
    }
   ],
   "source": [
    "nltk.download('punkt')\n",
    "nltk.download('wordnet')\n",
    "nltk.download('omw-1.4')"
   ]
  },
  {
   "cell_type": "markdown",
   "metadata": {},
   "source": [
    "Here, I create two functions where the first one is to simply tokenize the text, while the second one is to tokenize the text with lemmentization."
   ]
  },
  {
   "cell_type": "code",
   "execution_count": 26,
   "metadata": {},
   "outputs": [],
   "source": [
    "def tokenizer(text):\n",
    "    \"\"\"\n",
    "    Tokenize text.\n",
    "    Inputs: text, a string\n",
    "    Returns: a list of tokens (str)\n",
    "    \"\"\"\n",
    "    return nltk.word_tokenize(text)\n",
    "\n",
    "\n",
    "def tokenizer_lemmatizer(text):\n",
    "    \"\"\"\n",
    "    Tokenize text with lemmatization.\n",
    "    Inputs: text, a string\n",
    "    Returns: a list of lemmatized tokens (str)\n",
    "    \"\"\"\n",
    "    lemmatizer = WordNetLemmatizer()\n",
    "    return [lemmatizer.lemmatize(tok) for tok in nltk.word_tokenize(text)]"
   ]
  },
  {
   "cell_type": "markdown",
   "metadata": {},
   "source": [
    "We can take the first tweet in our dataframe as an example. The difference in the result of tokenizer and tokenizer_lemmatizer is that \"shows\" in the first result becomes \"show\" in the second one."
   ]
  },
  {
   "cell_type": "code",
   "execution_count": 28,
   "metadata": {},
   "outputs": [],
   "source": [
    "text = df['clean_tweet'].iloc[0]"
   ]
  },
  {
   "cell_type": "code",
   "execution_count": 30,
   "metadata": {},
   "outputs": [
    {
     "name": "stdout",
     "output_type": "stream",
     "text": [
      "['amazing', 'launch', 'video', 'shows', 'how', 'much', 'the', 'face', 'of', 'canada', 'and', 'our', 'men', 's', 'national', 'team', 'have', 'changed', 'since', 'our', 'last', 'world', 'cup', 'entry', 'in', 'can', 'not', 'wait', 'to', 'see', 'these', 'boys', 'in', 'action', 'this', 'is', 'canada', 'fifa', 'world', 'cup', 'opening', 'video']\n"
     ]
    }
   ],
   "source": [
    "print(tokenizer(text))"
   ]
  },
  {
   "cell_type": "code",
   "execution_count": 31,
   "metadata": {},
   "outputs": [
    {
     "name": "stdout",
     "output_type": "stream",
     "text": [
      "['amazing', 'launch', 'video', 'show', 'how', 'much', 'the', 'face', 'of', 'canada', 'and', 'our', 'men', 's', 'national', 'team', 'have', 'changed', 'since', 'our', 'last', 'world', 'cup', 'entry', 'in', 'can', 'not', 'wait', 'to', 'see', 'these', 'boy', 'in', 'action', 'this', 'is', 'canada', 'fifa', 'world', 'cup', 'opening', 'video']\n"
     ]
    }
   ],
   "source": [
    "print(tokenizer_lemmatizer(text))"
   ]
  },
  {
   "cell_type": "markdown",
   "metadata": {},
   "source": [
    "1.2.6 Text vectorization \n",
    "- TfidfVectorizer\n",
    "    - The reason why TfidfVectorizer is preferred here than CountVectorizer is that our data is about a specific event, 2022 World Cup. Thus, there will be a lot of words that occur very frequently but do not carry much information. TfidfVectorizer can adjust the frequency of word accross all tweets. \n",
    "- In this section, we can get an overview of the features and their frequency in our text data.\n"
   ]
  },
  {
   "cell_type": "code",
   "execution_count": 32,
   "metadata": {},
   "outputs": [],
   "source": [
    "from sklearn.feature_extraction.text import TfidfVectorizer"
   ]
  },
  {
   "cell_type": "code",
   "execution_count": 33,
   "metadata": {},
   "outputs": [],
   "source": [
    "vectorizer = TfidfVectorizer()"
   ]
  },
  {
   "cell_type": "code",
   "execution_count": 34,
   "metadata": {},
   "outputs": [],
   "source": [
    "X = vectorizer.fit_transform(df['clean_tweet'])"
   ]
  },
  {
   "cell_type": "code",
   "execution_count": 37,
   "metadata": {},
   "outputs": [
    {
     "data": {
      "text/plain": [
       "(14273, 12651)"
      ]
     },
     "execution_count": 37,
     "metadata": {},
     "output_type": "execute_result"
    }
   ],
   "source": [
    "X.shape"
   ]
  },
  {
   "cell_type": "code",
   "execution_count": 41,
   "metadata": {},
   "outputs": [],
   "source": [
    "# this function is from Quiz 1.2\n",
    "def get_topn_features(X, feature_names, topn=10):\n",
    "    \"\"\"\n",
    "    Inputs:\n",
    "        X: feature matrix\n",
    "        feature_names: extracted features during vectorization\n",
    "        topn: the number of most frequent features to return\n",
    "    Outputs:\n",
    "        topn most frequent features and their frequency\n",
    "    \"\"\"\n",
    "    feature_ct = np.asarray(np.sum(X, axis=0)).reshape(-1)\n",
    "\n",
    "    feature_freq = []\n",
    "    \n",
    "    for i in np.argsort(feature_ct)[::-1][:topn]:\n",
    "        feature_freq.append({'feature':feature_names[i], 'frequency':feature_ct[i]})\n",
    "    \n",
    "    return pd.DataFrame(feature_freq)"
   ]
  },
  {
   "cell_type": "code",
   "execution_count": 42,
   "metadata": {},
   "outputs": [],
   "source": [
    "feature_names = vectorizer.get_feature_names_out()"
   ]
  },
  {
   "cell_type": "code",
   "execution_count": 43,
   "metadata": {},
   "outputs": [
    {
     "data": {
      "text/html": [
       "<div>\n",
       "<style scoped>\n",
       "    .dataframe tbody tr th:only-of-type {\n",
       "        vertical-align: middle;\n",
       "    }\n",
       "\n",
       "    .dataframe tbody tr th {\n",
       "        vertical-align: top;\n",
       "    }\n",
       "\n",
       "    .dataframe thead th {\n",
       "        text-align: right;\n",
       "    }\n",
       "</style>\n",
       "<table border=\"1\" class=\"dataframe\">\n",
       "  <thead>\n",
       "    <tr style=\"text-align: right;\">\n",
       "      <th></th>\n",
       "      <th>feature</th>\n",
       "      <th>frequency</th>\n",
       "    </tr>\n",
       "  </thead>\n",
       "  <tbody>\n",
       "    <tr>\n",
       "      <th>0</th>\n",
       "      <td>the</td>\n",
       "      <td>931.972693</td>\n",
       "    </tr>\n",
       "    <tr>\n",
       "      <th>1</th>\n",
       "      <td>is</td>\n",
       "      <td>612.077512</td>\n",
       "    </tr>\n",
       "    <tr>\n",
       "      <th>2</th>\n",
       "      <td>to</td>\n",
       "      <td>502.920265</td>\n",
       "    </tr>\n",
       "    <tr>\n",
       "      <th>3</th>\n",
       "      <td>world</td>\n",
       "      <td>457.568559</td>\n",
       "    </tr>\n",
       "    <tr>\n",
       "      <th>4</th>\n",
       "      <td>cup</td>\n",
       "      <td>430.535453</td>\n",
       "    </tr>\n",
       "    <tr>\n",
       "      <th>5</th>\n",
       "      <td>of</td>\n",
       "      <td>420.565892</td>\n",
       "    </tr>\n",
       "    <tr>\n",
       "      <th>6</th>\n",
       "      <td>in</td>\n",
       "      <td>395.599261</td>\n",
       "    </tr>\n",
       "    <tr>\n",
       "      <th>7</th>\n",
       "      <td>and</td>\n",
       "      <td>386.555279</td>\n",
       "    </tr>\n",
       "    <tr>\n",
       "      <th>8</th>\n",
       "      <td>for</td>\n",
       "      <td>377.743904</td>\n",
       "    </tr>\n",
       "    <tr>\n",
       "      <th>9</th>\n",
       "      <td>it</td>\n",
       "      <td>366.627375</td>\n",
       "    </tr>\n",
       "    <tr>\n",
       "      <th>10</th>\n",
       "      <td>this</td>\n",
       "      <td>357.549251</td>\n",
       "    </tr>\n",
       "    <tr>\n",
       "      <th>11</th>\n",
       "      <td>qatar</td>\n",
       "      <td>346.774491</td>\n",
       "    </tr>\n",
       "    <tr>\n",
       "      <th>12</th>\n",
       "      <td>that</td>\n",
       "      <td>332.555155</td>\n",
       "    </tr>\n",
       "    <tr>\n",
       "      <th>13</th>\n",
       "      <td>you</td>\n",
       "      <td>301.100418</td>\n",
       "    </tr>\n",
       "    <tr>\n",
       "      <th>14</th>\n",
       "      <td>not</td>\n",
       "      <td>291.528010</td>\n",
       "    </tr>\n",
       "    <tr>\n",
       "      <th>15</th>\n",
       "      <td>are</td>\n",
       "      <td>263.226929</td>\n",
       "    </tr>\n",
       "    <tr>\n",
       "      <th>16</th>\n",
       "      <td>on</td>\n",
       "      <td>259.765434</td>\n",
       "    </tr>\n",
       "    <tr>\n",
       "      <th>17</th>\n",
       "      <td>we</td>\n",
       "      <td>250.065083</td>\n",
       "    </tr>\n",
       "    <tr>\n",
       "      <th>18</th>\n",
       "      <td>let</td>\n",
       "      <td>232.953691</td>\n",
       "    </tr>\n",
       "    <tr>\n",
       "      <th>19</th>\n",
       "      <td>us</td>\n",
       "      <td>227.044827</td>\n",
       "    </tr>\n",
       "  </tbody>\n",
       "</table>\n",
       "</div>"
      ],
      "text/plain": [
       "   feature   frequency\n",
       "0      the  931.972693\n",
       "1       is  612.077512\n",
       "2       to  502.920265\n",
       "3    world  457.568559\n",
       "4      cup  430.535453\n",
       "5       of  420.565892\n",
       "6       in  395.599261\n",
       "7      and  386.555279\n",
       "8      for  377.743904\n",
       "9       it  366.627375\n",
       "10    this  357.549251\n",
       "11   qatar  346.774491\n",
       "12    that  332.555155\n",
       "13     you  301.100418\n",
       "14     not  291.528010\n",
       "15     are  263.226929\n",
       "16      on  259.765434\n",
       "17      we  250.065083\n",
       "18     let  232.953691\n",
       "19      us  227.044827"
      ]
     },
     "execution_count": 43,
     "metadata": {},
     "output_type": "execute_result"
    }
   ],
   "source": [
    "get_topn_features(X, feature_names, topn=20)"
   ]
  },
  {
   "cell_type": "markdown",
   "metadata": {},
   "source": [
    "Here, we can see that most of the top 20 frequent words are not meaningful in terms of sentiment. Therefore, we should generate an appropriate list of stop words to handle this issue. We first apply stopwords list created by nltk."
   ]
  },
  {
   "cell_type": "code",
   "execution_count": 45,
   "metadata": {},
   "outputs": [
    {
     "name": "stderr",
     "output_type": "stream",
     "text": [
      "[nltk_data] Downloading package stopwords to\n",
      "[nltk_data]     /Users/axyz1220/nltk_data...\n",
      "[nltk_data]   Package stopwords is already up-to-date!\n"
     ]
    },
    {
     "data": {
      "text/plain": [
       "True"
      ]
     },
     "execution_count": 45,
     "metadata": {},
     "output_type": "execute_result"
    }
   ],
   "source": [
    "nltk.download('stopwords')"
   ]
  },
  {
   "cell_type": "code",
   "execution_count": 48,
   "metadata": {},
   "outputs": [],
   "source": [
    "from nltk.corpus import stopwords"
   ]
  },
  {
   "cell_type": "code",
   "execution_count": 49,
   "metadata": {},
   "outputs": [],
   "source": [
    "stop = stopwords.words('english')"
   ]
  },
  {
   "cell_type": "code",
   "execution_count": 50,
   "metadata": {},
   "outputs": [
    {
     "name": "stdout",
     "output_type": "stream",
     "text": [
      "['i', 'me', 'my', 'myself', 'we', 'our', 'ours', 'ourselves', 'you', \"you're\", \"you've\", \"you'll\", \"you'd\", 'your', 'yours', 'yourself', 'yourselves', 'he', 'him', 'his', 'himself', 'she', \"she's\", 'her', 'hers', 'herself', 'it', \"it's\", 'its', 'itself', 'they', 'them', 'their', 'theirs', 'themselves', 'what', 'which', 'who', 'whom', 'this', 'that', \"that'll\", 'these', 'those', 'am', 'is', 'are', 'was', 'were', 'be', 'been', 'being', 'have', 'has', 'had', 'having', 'do', 'does', 'did', 'doing', 'a', 'an', 'the', 'and', 'but', 'if', 'or', 'because', 'as', 'until', 'while', 'of', 'at', 'by', 'for', 'with', 'about', 'against', 'between', 'into', 'through', 'during', 'before', 'after', 'above', 'below', 'to', 'from', 'up', 'down', 'in', 'out', 'on', 'off', 'over', 'under', 'again', 'further', 'then', 'once', 'here', 'there', 'when', 'where', 'why', 'how', 'all', 'any', 'both', 'each', 'few', 'more', 'most', 'other', 'some', 'such', 'no', 'nor', 'not', 'only', 'own', 'same', 'so', 'than', 'too', 'very', 's', 't', 'can', 'will', 'just', 'don', \"don't\", 'should', \"should've\", 'now', 'd', 'll', 'm', 'o', 're', 've', 'y', 'ain', 'aren', \"aren't\", 'couldn', \"couldn't\", 'didn', \"didn't\", 'doesn', \"doesn't\", 'hadn', \"hadn't\", 'hasn', \"hasn't\", 'haven', \"haven't\", 'isn', \"isn't\", 'ma', 'mightn', \"mightn't\", 'mustn', \"mustn't\", 'needn', \"needn't\", 'shan', \"shan't\", 'shouldn', \"shouldn't\", 'wasn', \"wasn't\", 'weren', \"weren't\", 'won', \"won't\", 'wouldn', \"wouldn't\"]\n"
     ]
    }
   ],
   "source": [
    "# take a look at the stopwords\n",
    "print(stop)"
   ]
  },
  {
   "cell_type": "markdown",
   "metadata": {},
   "source": [
    "We can see there are a lot of negation words in the stopwords list. Since we are doing sentiment analysis, removing negations can dramatically change the performance of our model. Therefore, we should remove those negation words from the stopwords list.  "
   ]
  },
  {
   "cell_type": "code",
   "execution_count": 51,
   "metadata": {},
   "outputs": [],
   "source": [
    "# remove negations in stopwords\n",
    "for word in stop:\n",
    "    if \"n't\" in word:\n",
    "        stop.remove(word)\n",
    "stop.remove('not')"
   ]
  },
  {
   "cell_type": "code",
   "execution_count": 52,
   "metadata": {},
   "outputs": [],
   "source": [
    "# apply our tokenizer_lemmatizer and stop_words to the vectorizer \n",
    "vectorizer = TfidfVectorizer(tokenizer=tokenizer_lemmatizer, stop_words=stop)"
   ]
  },
  {
   "cell_type": "code",
   "execution_count": 53,
   "metadata": {},
   "outputs": [
    {
     "name": "stderr",
     "output_type": "stream",
     "text": [
      "/Users/axyz1220/opt/anaconda3/lib/python3.9/site-packages/sklearn/feature_extraction/text.py:396: UserWarning: Your stop_words may be inconsistent with your preprocessing. Tokenizing the stop words generated tokens [\"'d\", \"'ll\", \"'re\", \"'s\", \"'ve\", 'doe', 'ha', 'wa'] not in stop_words.\n",
      "  warnings.warn(\n"
     ]
    }
   ],
   "source": [
    "X = vectorizer.fit_transform(df['clean_tweet'])"
   ]
  },
  {
   "cell_type": "markdown",
   "metadata": {},
   "source": [
    "This warning suggests that there is inconsistency in the stopwords between vectorizer and our tokenizer_lemmatizer. Therefore, we should add those tokens generated from stopwords but not included to the stopwords list. "
   ]
  },
  {
   "cell_type": "code",
   "execution_count": 54,
   "metadata": {},
   "outputs": [],
   "source": [
    "stop.extend([\"'d\", \"'ll\", \"'re\", \"'s\", \"'ve\", 'doe', 'ha', 'wa'])"
   ]
  },
  {
   "cell_type": "code",
   "execution_count": 55,
   "metadata": {},
   "outputs": [],
   "source": [
    "vectorizer = TfidfVectorizer(tokenizer=tokenizer_lemmatizer, stop_words=stop)\n",
    "X = vectorizer.fit_transform(df['clean_tweet'])\n",
    "feature_names = vectorizer.get_feature_names_out()"
   ]
  },
  {
   "cell_type": "code",
   "execution_count": 60,
   "metadata": {},
   "outputs": [
    {
     "data": {
      "text/html": [
       "<div>\n",
       "<style scoped>\n",
       "    .dataframe tbody tr th:only-of-type {\n",
       "        vertical-align: middle;\n",
       "    }\n",
       "\n",
       "    .dataframe tbody tr th {\n",
       "        vertical-align: top;\n",
       "    }\n",
       "\n",
       "    .dataframe thead th {\n",
       "        text-align: right;\n",
       "    }\n",
       "</style>\n",
       "<table border=\"1\" class=\"dataframe\">\n",
       "  <thead>\n",
       "    <tr style=\"text-align: right;\">\n",
       "      <th></th>\n",
       "      <th>feature</th>\n",
       "      <th>frequency</th>\n",
       "    </tr>\n",
       "  </thead>\n",
       "  <tbody>\n",
       "    <tr>\n",
       "      <th>0</th>\n",
       "      <td>world</td>\n",
       "      <td>520.925137</td>\n",
       "    </tr>\n",
       "    <tr>\n",
       "      <th>1</th>\n",
       "      <td>cup</td>\n",
       "      <td>490.527128</td>\n",
       "    </tr>\n",
       "    <tr>\n",
       "      <th>2</th>\n",
       "      <td>qatar</td>\n",
       "      <td>396.441419</td>\n",
       "    </tr>\n",
       "    <tr>\n",
       "      <th>3</th>\n",
       "      <td>not</td>\n",
       "      <td>387.314201</td>\n",
       "    </tr>\n",
       "    <tr>\n",
       "      <th>4</th>\n",
       "      <td>goal</td>\n",
       "      <td>264.115610</td>\n",
       "    </tr>\n",
       "    <tr>\n",
       "      <th>5</th>\n",
       "      <td>go</td>\n",
       "      <td>255.388905</td>\n",
       "    </tr>\n",
       "    <tr>\n",
       "      <th>6</th>\n",
       "      <td>let</td>\n",
       "      <td>254.937579</td>\n",
       "    </tr>\n",
       "    <tr>\n",
       "      <th>7</th>\n",
       "      <td>u</td>\n",
       "      <td>247.735020</td>\n",
       "    </tr>\n",
       "    <tr>\n",
       "      <th>8</th>\n",
       "      <td>offside</td>\n",
       "      <td>227.572605</td>\n",
       "    </tr>\n",
       "    <tr>\n",
       "      <th>9</th>\n",
       "      <td>opening</td>\n",
       "      <td>223.143624</td>\n",
       "    </tr>\n",
       "    <tr>\n",
       "      <th>10</th>\n",
       "      <td>ecuador</td>\n",
       "      <td>218.221085</td>\n",
       "    </tr>\n",
       "    <tr>\n",
       "      <th>11</th>\n",
       "      <td>game</td>\n",
       "      <td>205.956686</td>\n",
       "    </tr>\n",
       "    <tr>\n",
       "      <th>12</th>\n",
       "      <td>team</td>\n",
       "      <td>186.917083</td>\n",
       "    </tr>\n",
       "    <tr>\n",
       "      <th>13</th>\n",
       "      <td>time</td>\n",
       "      <td>183.729313</td>\n",
       "    </tr>\n",
       "    <tr>\n",
       "      <th>14</th>\n",
       "      <td>first</td>\n",
       "      <td>178.451479</td>\n",
       "    </tr>\n",
       "    <tr>\n",
       "      <th>15</th>\n",
       "      <td>today</td>\n",
       "      <td>177.482105</td>\n",
       "    </tr>\n",
       "    <tr>\n",
       "      <th>16</th>\n",
       "      <td>start</td>\n",
       "      <td>175.971529</td>\n",
       "    </tr>\n",
       "    <tr>\n",
       "      <th>17</th>\n",
       "      <td>football</td>\n",
       "      <td>166.708332</td>\n",
       "    </tr>\n",
       "    <tr>\n",
       "      <th>18</th>\n",
       "      <td>ceremony</td>\n",
       "      <td>161.233858</td>\n",
       "    </tr>\n",
       "    <tr>\n",
       "      <th>19</th>\n",
       "      <td>good</td>\n",
       "      <td>160.731179</td>\n",
       "    </tr>\n",
       "  </tbody>\n",
       "</table>\n",
       "</div>"
      ],
      "text/plain": [
       "     feature   frequency\n",
       "0      world  520.925137\n",
       "1        cup  490.527128\n",
       "2      qatar  396.441419\n",
       "3        not  387.314201\n",
       "4       goal  264.115610\n",
       "5         go  255.388905\n",
       "6        let  254.937579\n",
       "7          u  247.735020\n",
       "8    offside  227.572605\n",
       "9    opening  223.143624\n",
       "10   ecuador  218.221085\n",
       "11      game  205.956686\n",
       "12      team  186.917083\n",
       "13      time  183.729313\n",
       "14     first  178.451479\n",
       "15     today  177.482105\n",
       "16     start  175.971529\n",
       "17  football  166.708332\n",
       "18  ceremony  161.233858\n",
       "19      good  160.731179"
      ]
     },
     "execution_count": 60,
     "metadata": {},
     "output_type": "execute_result"
    }
   ],
   "source": [
    "get_topn_features(X, feature_names, topn=20)"
   ]
  },
  {
   "cell_type": "markdown",
   "metadata": {},
   "source": [
    "We can see there is a \"u\" in the top 20 list, and we know that it represents you, a stopword. Therefore, add \"u\" into stopword list. "
   ]
  },
  {
   "cell_type": "code",
   "execution_count": 61,
   "metadata": {},
   "outputs": [],
   "source": [
    "stop.append('u')"
   ]
  },
  {
   "cell_type": "code",
   "execution_count": 62,
   "metadata": {},
   "outputs": [],
   "source": [
    "vectorizer = TfidfVectorizer(tokenizer=tokenizer_lemmatizer, stop_words=stop)\n",
    "X = vectorizer.fit_transform(df['clean_tweet'])\n",
    "feature_names = vectorizer.get_feature_names_out()"
   ]
  },
  {
   "cell_type": "code",
   "execution_count": 63,
   "metadata": {},
   "outputs": [
    {
     "data": {
      "text/html": [
       "<div>\n",
       "<style scoped>\n",
       "    .dataframe tbody tr th:only-of-type {\n",
       "        vertical-align: middle;\n",
       "    }\n",
       "\n",
       "    .dataframe tbody tr th {\n",
       "        vertical-align: top;\n",
       "    }\n",
       "\n",
       "    .dataframe thead th {\n",
       "        text-align: right;\n",
       "    }\n",
       "</style>\n",
       "<table border=\"1\" class=\"dataframe\">\n",
       "  <thead>\n",
       "    <tr style=\"text-align: right;\">\n",
       "      <th></th>\n",
       "      <th>feature</th>\n",
       "      <th>frequency</th>\n",
       "    </tr>\n",
       "  </thead>\n",
       "  <tbody>\n",
       "    <tr>\n",
       "      <th>0</th>\n",
       "      <td>world</td>\n",
       "      <td>522.261206</td>\n",
       "    </tr>\n",
       "    <tr>\n",
       "      <th>1</th>\n",
       "      <td>cup</td>\n",
       "      <td>491.808768</td>\n",
       "    </tr>\n",
       "    <tr>\n",
       "      <th>2</th>\n",
       "      <td>qatar</td>\n",
       "      <td>397.141845</td>\n",
       "    </tr>\n",
       "    <tr>\n",
       "      <th>3</th>\n",
       "      <td>not</td>\n",
       "      <td>387.684780</td>\n",
       "    </tr>\n",
       "    <tr>\n",
       "      <th>4</th>\n",
       "      <td>let</td>\n",
       "      <td>275.187483</td>\n",
       "    </tr>\n",
       "    <tr>\n",
       "      <th>5</th>\n",
       "      <td>go</td>\n",
       "      <td>268.790459</td>\n",
       "    </tr>\n",
       "    <tr>\n",
       "      <th>6</th>\n",
       "      <td>goal</td>\n",
       "      <td>264.389764</td>\n",
       "    </tr>\n",
       "    <tr>\n",
       "      <th>7</th>\n",
       "      <td>offside</td>\n",
       "      <td>227.620770</td>\n",
       "    </tr>\n",
       "    <tr>\n",
       "      <th>8</th>\n",
       "      <td>opening</td>\n",
       "      <td>223.379536</td>\n",
       "    </tr>\n",
       "    <tr>\n",
       "      <th>9</th>\n",
       "      <td>ecuador</td>\n",
       "      <td>218.576880</td>\n",
       "    </tr>\n",
       "    <tr>\n",
       "      <th>10</th>\n",
       "      <td>game</td>\n",
       "      <td>206.367185</td>\n",
       "    </tr>\n",
       "    <tr>\n",
       "      <th>11</th>\n",
       "      <td>team</td>\n",
       "      <td>187.244772</td>\n",
       "    </tr>\n",
       "    <tr>\n",
       "      <th>12</th>\n",
       "      <td>time</td>\n",
       "      <td>184.180748</td>\n",
       "    </tr>\n",
       "    <tr>\n",
       "      <th>13</th>\n",
       "      <td>first</td>\n",
       "      <td>178.647574</td>\n",
       "    </tr>\n",
       "    <tr>\n",
       "      <th>14</th>\n",
       "      <td>today</td>\n",
       "      <td>178.082849</td>\n",
       "    </tr>\n",
       "    <tr>\n",
       "      <th>15</th>\n",
       "      <td>start</td>\n",
       "      <td>176.495966</td>\n",
       "    </tr>\n",
       "    <tr>\n",
       "      <th>16</th>\n",
       "      <td>football</td>\n",
       "      <td>167.213402</td>\n",
       "    </tr>\n",
       "    <tr>\n",
       "      <th>17</th>\n",
       "      <td>ceremony</td>\n",
       "      <td>161.455041</td>\n",
       "    </tr>\n",
       "    <tr>\n",
       "      <th>18</th>\n",
       "      <td>good</td>\n",
       "      <td>160.984320</td>\n",
       "    </tr>\n",
       "    <tr>\n",
       "      <th>19</th>\n",
       "      <td>day</td>\n",
       "      <td>157.160714</td>\n",
       "    </tr>\n",
       "  </tbody>\n",
       "</table>\n",
       "</div>"
      ],
      "text/plain": [
       "     feature   frequency\n",
       "0      world  522.261206\n",
       "1        cup  491.808768\n",
       "2      qatar  397.141845\n",
       "3        not  387.684780\n",
       "4        let  275.187483\n",
       "5         go  268.790459\n",
       "6       goal  264.389764\n",
       "7    offside  227.620770\n",
       "8    opening  223.379536\n",
       "9    ecuador  218.576880\n",
       "10      game  206.367185\n",
       "11      team  187.244772\n",
       "12      time  184.180748\n",
       "13     first  178.647574\n",
       "14     today  178.082849\n",
       "15     start  176.495966\n",
       "16  football  167.213402\n",
       "17  ceremony  161.455041\n",
       "18      good  160.984320\n",
       "19       day  157.160714"
      ]
     },
     "execution_count": 63,
     "metadata": {},
     "output_type": "execute_result"
    }
   ],
   "source": [
    "get_topn_features(X, feature_names, topn=20)"
   ]
  },
  {
   "cell_type": "markdown",
   "metadata": {},
   "source": [
    "### Model\n",
    "\n",
    "#### 3.1 Model Introduction\n",
    "In this project, I choose logistic regression as the binary classification model. It is very easy to implement and performs very well on linearly separable classes. It is also one of the most widely used algorithms for classification. \n",
    "\n",
    "**Logistic Regression**: it maps to probability with a logistic/sigmoid. The logistic regression function is the following:\n",
    "$$ \n",
    "    \\hat{y} = \\frac{1}{1 + \\exp (- t)}  = \\frac{1}{1 + \\exp (-\\sum_i\\beta_i x_i)} \n",
    "$$\n",
    "\n",
    "- $x_i$ is value of feature $i$ in an instance (word count)<br>\n",
    "- $\\beta_i$ is the model parameter associated with feature $i$ <br>\n",
    "- $\\hat{y}$ is the probability of being positive, $y$ is the actual label <br>\n",
    "    - If $\\hat{y} > .5$, classify as positive, $y = 1$ <br>\n",
    "\n"
   ]
  },
  {
   "cell_type": "markdown",
   "metadata": {},
   "source": [
    "#### 3.2 Model Training and Tuning\n",
    "3.2.1 Split data\n",
    "- To prepare for the model learning later, we should split our data into training and testing data. The proportion I apply is 70/30."
   ]
  },
  {
   "cell_type": "code",
   "execution_count": 64,
   "metadata": {},
   "outputs": [],
   "source": [
    "from sklearn.model_selection import train_test_split\n",
    "\n",
    "# split the dataset in train and test\n",
    "X = df['clean_tweet']\n",
    "y = df['Sentiment']\n",
    "X_train, X_test, y_train, y_test = train_test_split(X, y, test_size=0.3, stratify=y)"
   ]
  },
  {
   "cell_type": "code",
   "execution_count": 93,
   "metadata": {},
   "outputs": [
    {
     "data": {
      "text/plain": [
       "((9991,), (4282,))"
      ]
     },
     "execution_count": 93,
     "metadata": {},
     "output_type": "execute_result"
    }
   ],
   "source": [
    "X_train.shape, X_test.shape"
   ]
  },
  {
   "cell_type": "markdown",
   "metadata": {},
   "source": [
    "Notice that the stratify parameter here is set to be not None, because altough our dataset is not imbalanced, the positive class is larger than the negative class. Therefore, setting stratify to y ensures that relative class frequencies is approximately preserved in each train and validation fold."
   ]
  },
  {
   "cell_type": "markdown",
   "metadata": {},
   "source": [
    "**3.2.2 Tune parameters with Grid Search**\n",
    "- Grid search\n",
    "    - It is a method for finding the optimal combination of hyper-parameters\n",
    "    - GridSearchCV\n",
    "        - scoring = 'accuracy' as it is the criterion for classification performance\n",
    "        - cv = 5, 5-fold cross validation\n",
    "            - Cross validation is for evaluating ML models by training several ML models on subsets of the available input data and evaluating them on the complementary subset of the data. It is very useful for detecting overfitting.\n",
    "        - verbose = 1, controls the amount of messages presented\n",
    "        - n_jobs = -1, using all processors to run\n",
    "- Parameters tuned\n",
    "    - Vectorizer:\n",
    "        - stop_words\n",
    "            - [stop, None]\n",
    "            - I would like to see whether applying stopwords to the vectorizer will improve the performance of the classifier\n",
    "        - tokenizer\n",
    "            - [tokenizer, tokenizer_lemmatizer]\n",
    "            - I would like to see whether lemmatizing tokens can improve the performance\n",
    "        - max_df\n",
    "            - [0.8, 0.9, 1.0]\n",
    "            - ignore terms that have a document frequency strictly higher than the given threshold\n",
    "            - 1.0 is the default which means that it would not ignore any token \n",
    "    - Classifier:\n",
    "        - penalty\n",
    "            - ['l1', 'l2']\n",
    "            - way of regularization \n",
    "        - C\n",
    "            - [1.0, 10.0, 100.0]\n",
    "            - adjust the strength of regularization \n",
    "        - solver\n",
    "            - set to 'liblinear' as it can be applied with both 'l1' and 'l2' regularization"
   ]
  },
  {
   "cell_type": "code",
   "execution_count": 65,
   "metadata": {},
   "outputs": [],
   "source": [
    "from sklearn.model_selection import GridSearchCV\n",
    "from sklearn.pipeline import Pipeline\n",
    "from sklearn.linear_model import LogisticRegression\n",
    "\n",
    "tfidf = TfidfVectorizer()\n",
    "\n",
    "param_grid = {'vect__stop_words': [stop, None], \n",
    "              'vect__tokenizer': [tokenizer, tokenizer_lemmatizer],\n",
    "              'vect__max_df': [0.8, 0.9, 1.0],\n",
    "              'clf__penalty': ['l1', 'l2'],\n",
    "              'clf__C': [1.0, 10.0, 100.0],\n",
    "              'clf__solver': ['liblinear']}\n",
    "\n",
    "tfidf_logreg = Pipeline([('vect', tfidf),\n",
    "                         ('clf', LogisticRegression(random_state=0))])\n",
    "\n",
    "gs_tfidf_logreg = GridSearchCV(tfidf_logreg, param_grid,\n",
    "                           scoring='accuracy',\n",
    "                           cv=5,\n",
    "                           verbose=1,\n",
    "                           n_jobs=-1)"
   ]
  },
  {
   "cell_type": "markdown",
   "metadata": {},
   "source": [
    "3.2.3 Train model"
   ]
  },
  {
   "cell_type": "code",
   "execution_count": 66,
   "metadata": {},
   "outputs": [
    {
     "name": "stdout",
     "output_type": "stream",
     "text": [
      "Fitting 5 folds for each of 72 candidates, totalling 360 fits\n"
     ]
    },
    {
     "data": {
      "text/plain": [
       "GridSearchCV(cv=5,\n",
       "             estimator=Pipeline(steps=[('vect', TfidfVectorizer()),\n",
       "                                       ('clf',\n",
       "                                        LogisticRegression(random_state=0))]),\n",
       "             n_jobs=-1,\n",
       "             param_grid={'clf__C': [1.0, 10.0, 100.0],\n",
       "                         'clf__penalty': ['l1', 'l2'],\n",
       "                         'clf__solver': ['liblinear'],\n",
       "                         'vect__max_df': [0.8, 0.9, 1.0],\n",
       "                         'vect__stop_words': [['i', 'me', 'my', 'myself', 'we',\n",
       "                                               'our', 'ours', 'ourselves',\n",
       "                                               'you', \"you're\", \"you've\",\n",
       "                                               \"you'll\", \"you'd\", 'your',\n",
       "                                               'yours', 'yourself',\n",
       "                                               'yourselves', 'he', 'him', 'his',\n",
       "                                               'himself', 'she', \"she's\", 'her',\n",
       "                                               'hers', 'herself', 'it', \"it's\",\n",
       "                                               'its', 'itself', ...],\n",
       "                                              None],\n",
       "                         'vect__tokenizer': [<function tokenizer at 0x7f85baf1f820>,\n",
       "                                             <function tokenizer_lemmatizer at 0x7f85baf1fdc0>]},\n",
       "             scoring='accuracy', verbose=1)"
      ]
     },
     "execution_count": 66,
     "metadata": {},
     "output_type": "execute_result"
    }
   ],
   "source": [
    "gs_tfidf_logreg.fit(X_train, y_train)"
   ]
  },
  {
   "cell_type": "markdown",
   "metadata": {},
   "source": [
    "#### 3.3 Model Performance\n",
    "- The best parameters\n",
    "- The best scores of cross-validation training \n",
    "- The accuracy of model on testing data"
   ]
  },
  {
   "cell_type": "code",
   "execution_count": 67,
   "metadata": {},
   "outputs": [
    {
     "name": "stdout",
     "output_type": "stream",
     "text": [
      "Best parameter set: {'clf__C': 10.0, 'clf__penalty': 'l2', 'clf__solver': 'liblinear', 'vect__max_df': 0.8, 'vect__stop_words': None, 'vect__tokenizer': <function tokenizer at 0x7f85baf1f820>}\n",
      "Best accuracy: 0.887\n"
     ]
    }
   ],
   "source": [
    "print('Best parameter set: ' + str(gs_tfidf_logreg.best_params_))\n",
    "print('Best accuracy: %.3f' % gs_tfidf_logreg.best_score_)"
   ]
  },
  {
   "cell_type": "markdown",
   "metadata": {},
   "source": [
    "We can see that the best parameters for the vectorizer are:\n",
    "- max_df = 0.8, remove some high-frequency words can help the performance\n",
    "- stop_words: None\n",
    "- tokenizer: tokenizer\n",
    "\n",
    "for the classifier are:\n",
    "- C = 10.0, moderate strength of regularization\n",
    "- penalty: l2\n",
    "\n",
    "It is surprising to see that the performance is better when the stopwords and lemmentization are not applied."
   ]
  },
  {
   "cell_type": "code",
   "execution_count": 68,
   "metadata": {},
   "outputs": [
    {
     "name": "stdout",
     "output_type": "stream",
     "text": [
      "Accuracy in test: 0.887\n"
     ]
    }
   ],
   "source": [
    "# performance on testing data\n",
    "sentiment_clf = gs_tfidf_logreg.best_estimator_\n",
    "print('Accuracy in test: %.3f' % sentiment_clf.score(X_test, y_test))"
   ]
  },
  {
   "cell_type": "markdown",
   "metadata": {},
   "source": [
    "We can see that the accuracy of the model on testing data is 0.887."
   ]
  },
  {
   "cell_type": "markdown",
   "metadata": {},
   "source": [
    "### Result Analysis"
   ]
  },
  {
   "cell_type": "markdown",
   "metadata": {},
   "source": [
    "#### 4.1 Model Performance Interpretation \n",
    "\n",
    "From the previous section, we know that the accuracy of the model applied to the testing data is 0.887, which is pretty high. Therefore, our model did a great job on the task.\n",
    "\n",
    "We can also check the top features that are predictive of positive and negative sentiments to see whether they make sense."
   ]
  },
  {
   "cell_type": "code",
   "execution_count": 69,
   "metadata": {},
   "outputs": [],
   "source": [
    "vectorizer = TfidfVectorizer(tokenizer=tokenizer, max_df=0.8)\n",
    "X = vectorizer.fit_transform(X_train)\n",
    "feature_names = vectorizer.get_feature_names_out()"
   ]
  },
  {
   "cell_type": "code",
   "execution_count": 70,
   "metadata": {},
   "outputs": [
    {
     "data": {
      "text/plain": [
       "LogisticRegression(C=10.0, solver='liblinear')"
      ]
     },
     "execution_count": 70,
     "metadata": {},
     "output_type": "execute_result"
    }
   ],
   "source": [
    "logreg = LogisticRegression(C=10.0, penalty='l2',solver='liblinear')\n",
    "logreg.fit(X, y_train)"
   ]
  },
  {
   "cell_type": "code",
   "execution_count": 71,
   "metadata": {},
   "outputs": [],
   "source": [
    "def get_topn_features_valence(feature_names, logreg, valence, topn=10):\n",
    "    \"\"\"\n",
    "    Inputs:\n",
    "        feature_names: extracted features during vectorization, numpy array\n",
    "        logreg: a logisticregression model/object\n",
    "        valence: positive or negative, str\n",
    "        topn: the number of most frequent features to return, int\n",
    "    Outputs:\n",
    "        topn features with selected valence and their values\n",
    "    \"\"\"\n",
    "    feature_to_coef = {word: float(\"%.3f\" % coef) for word, coef in zip(feature_names, logreg.coef_[0])}\n",
    "    if valence == 'positive':        \n",
    "        result = sorted(feature_to_coef.items(), key=lambda x: x[1], reverse=True)[:topn]\n",
    "    else:\n",
    "        result = sorted(feature_to_coef.items(), key=lambda x: x[1], reverse=False)[:topn]\n",
    "    \n",
    "    return pd.DataFrame(result, columns=['feature', 'value'])"
   ]
  },
  {
   "cell_type": "markdown",
   "metadata": {},
   "source": [
    "Check the top 50 positive words"
   ]
  },
  {
   "cell_type": "code",
   "execution_count": 73,
   "metadata": {},
   "outputs": [],
   "source": [
    "pos_word = get_topn_features_valence(feature_names, logreg, 'positive', topn=50)\n",
    "word_cloud = \" \".join(pos_word['feature'])"
   ]
  },
  {
   "cell_type": "code",
   "execution_count": 74,
   "metadata": {},
   "outputs": [
    {
     "data": {
      "text/plain": [
       "<matplotlib.image.AxesImage at 0x7f85a26dbfd0>"
      ]
     },
     "execution_count": 74,
     "metadata": {},
     "output_type": "execute_result"
    },
    {
     "data": {
      "image/png": "[encoded data removed]",
      "text/plain": [
       "<Figure size 640x480 with 1 Axes>"
      ]
     },
     "metadata": {},
     "output_type": "display_data"
    }
   ],
   "source": [
    "from wordcloud import WordCloud\n",
    "import matplotlib.pyplot as plt\n",
    "wordcloud = WordCloud(width = 1000, height = 500,background_color ='white',min_font_size = 10).generate(word_cloud)\n",
    "plt.imshow(wordcloud)"
   ]
  },
  {
   "cell_type": "markdown",
   "metadata": {},
   "source": [
    "Check the top 50 negative words"
   ]
  },
  {
   "cell_type": "code",
   "execution_count": 95,
   "metadata": {},
   "outputs": [
    {
     "data": {
      "text/plain": [
       "<matplotlib.image.AxesImage at 0x7f85a2c04070>"
      ]
     },
     "execution_count": 95,
     "metadata": {},
     "output_type": "execute_result"
    },
    {
     "data": {
      "image/png": "[encoded data removed]",
      "text/plain": [
       "<Figure size 640x480 with 1 Axes>"
      ]
     },
     "metadata": {},
     "output_type": "display_data"
    }
   ],
   "source": [
    "neg_word = get_topn_features_valence(feature_names, logreg, 'negative', topn=50)\n",
    "word_cloud = \" \".join(neg_word['feature'])\n",
    "wordcloud = WordCloud(width = 1000, height = 500,background_color ='white',min_font_size = 10).generate(word_cloud)\n",
    "plt.imshow(wordcloud)"
   ]
  },
  {
   "cell_type": "markdown",
   "metadata": {},
   "source": [
    "We can see that the sentiment classified by our model is consistent with the word meaning and our perception."
   ]
  },
  {
   "cell_type": "markdown",
   "metadata": {},
   "source": [
    "#### 4.2 Error Analysis"
   ]
  },
  {
   "cell_type": "markdown",
   "metadata": {},
   "source": [
    "4.2.1 Show error examples"
   ]
  },
  {
   "cell_type": "code",
   "execution_count": 76,
   "metadata": {},
   "outputs": [],
   "source": [
    "# create a dataframe for testing data and the predicted labels\n",
    "y_test_pred = sentiment_clf.predict(X_test)\n",
    "df_test = df.loc[X_test.index]\n",
    "df_test['predicted_sentiment'] = y_test_pred"
   ]
  },
  {
   "cell_type": "code",
   "execution_count": 77,
   "metadata": {},
   "outputs": [],
   "source": [
    "# create a dataframe for error examples\n",
    "df_test_error = df_test[df_test['Sentiment'] != df_test['predicted_sentiment']]\n"
   ]
  },
  {
   "cell_type": "code",
   "execution_count": 80,
   "metadata": {},
   "outputs": [
    {
     "data": {
      "text/html": [
       "<div>\n",
       "<style scoped>\n",
       "    .dataframe tbody tr th:only-of-type {\n",
       "        vertical-align: middle;\n",
       "    }\n",
       "\n",
       "    .dataframe tbody tr th {\n",
       "        vertical-align: top;\n",
       "    }\n",
       "\n",
       "    .dataframe thead th {\n",
       "        text-align: right;\n",
       "    }\n",
       "</style>\n",
       "<table border=\"1\" class=\"dataframe\">\n",
       "  <thead>\n",
       "    <tr style=\"text-align: right;\">\n",
       "      <th></th>\n",
       "      <th>Tweet</th>\n",
       "      <th>Sentiment</th>\n",
       "      <th>clean_tweet</th>\n",
       "      <th>predicted_sentiment</th>\n",
       "    </tr>\n",
       "  </thead>\n",
       "  <tbody>\n",
       "    <tr>\n",
       "      <th>20322</th>\n",
       "      <td>#WorldCup2022 #Prayer - for the migrant worker...</td>\n",
       "      <td>1</td>\n",
       "      <td>for the migrant workers  lgbtq community a...</td>\n",
       "      <td>0</td>\n",
       "    </tr>\n",
       "    <tr>\n",
       "      <th>15971</th>\n",
       "      <td>Family sweepstake. I’m doomed. #WorldCup2022 h...</td>\n",
       "      <td>0</td>\n",
       "      <td>family sweepstake  i am doomed</td>\n",
       "      <td>1</td>\n",
       "    </tr>\n",
       "    <tr>\n",
       "      <th>17759</th>\n",
       "      <td>Now that the #WorldCup2022 is about to start. ...</td>\n",
       "      <td>0</td>\n",
       "      <td>now that the  is about to start  who do you re...</td>\n",
       "      <td>1</td>\n",
       "    </tr>\n",
       "    <tr>\n",
       "      <th>6948</th>\n",
       "      <td>RIP World Cup 👎🏼 #WorldCup2022</td>\n",
       "      <td>0</td>\n",
       "      <td>rip world cup</td>\n",
       "      <td>1</td>\n",
       "    </tr>\n",
       "    <tr>\n",
       "      <th>3165</th>\n",
       "      <td>1st 45 weren’t disappointing! Besides that spi...</td>\n",
       "      <td>1</td>\n",
       "      <td>st  were not disappointing  besides that spiri...</td>\n",
       "      <td>0</td>\n",
       "    </tr>\n",
       "    <tr>\n",
       "      <th>10470</th>\n",
       "      <td>Wow Ecuador strikes first! Horrible defense #W...</td>\n",
       "      <td>0</td>\n",
       "      <td>wow ecuador strikes first  horrible defense</td>\n",
       "      <td>1</td>\n",
       "    </tr>\n",
       "    <tr>\n",
       "      <th>13849</th>\n",
       "      <td>Fair play to @BBCSport, not holding back at al...</td>\n",
       "      <td>1</td>\n",
       "      <td>fair play to  not holding back at all in criti...</td>\n",
       "      <td>0</td>\n",
       "    </tr>\n",
       "    <tr>\n",
       "      <th>22203</th>\n",
       "      <td>“Until television ratings tank, teams walk off...</td>\n",
       "      <td>0</td>\n",
       "      <td>until television ratings tank  teams walk off...</td>\n",
       "      <td>1</td>\n",
       "    </tr>\n",
       "    <tr>\n",
       "      <th>11493</th>\n",
       "      <td>Hey #Football, just a quick thanks for driving...</td>\n",
       "      <td>1</td>\n",
       "      <td>hey  just a quick thanks for driving global aw...</td>\n",
       "      <td>0</td>\n",
       "    </tr>\n",
       "    <tr>\n",
       "      <th>5858</th>\n",
       "      <td>Yes!!!! Go #ECU Should really be 0-2 but VAR m...</td>\n",
       "      <td>1</td>\n",
       "      <td>yes     go  should really be   but var my arse</td>\n",
       "      <td>0</td>\n",
       "    </tr>\n",
       "    <tr>\n",
       "      <th>3277</th>\n",
       "      <td>The whole world is seeing that Qatar is trying...</td>\n",
       "      <td>0</td>\n",
       "      <td>the whole world is seeing that qatar is trying...</td>\n",
       "      <td>1</td>\n",
       "    </tr>\n",
       "    <tr>\n",
       "      <th>16878</th>\n",
       "      <td>Good for Melissa Reddy to mention some of the ...</td>\n",
       "      <td>1</td>\n",
       "      <td>good for melissa reddy to mention some of the ...</td>\n",
       "      <td>0</td>\n",
       "    </tr>\n",
       "    <tr>\n",
       "      <th>86</th>\n",
       "      <td>The golden maknae killing the world cup stage....</td>\n",
       "      <td>1</td>\n",
       "      <td>the golden maknae killing the world cup stage ...</td>\n",
       "      <td>0</td>\n",
       "    </tr>\n",
       "    <tr>\n",
       "      <th>15666</th>\n",
       "      <td>These opening ceremonies are perfect - they ha...</td>\n",
       "      <td>1</td>\n",
       "      <td>these opening ceremonies are perfect   they ha...</td>\n",
       "      <td>0</td>\n",
       "    </tr>\n",
       "  </tbody>\n",
       "</table>\n",
       "</div>"
      ],
      "text/plain": [
       "                                                   Tweet  Sentiment  \\\n",
       "20322  #WorldCup2022 #Prayer - for the migrant worker...          1   \n",
       "15971  Family sweepstake. I’m doomed. #WorldCup2022 h...          0   \n",
       "17759  Now that the #WorldCup2022 is about to start. ...          0   \n",
       "6948                      RIP World Cup 👎🏼 #WorldCup2022          0   \n",
       "3165   1st 45 weren’t disappointing! Besides that spi...          1   \n",
       "10470  Wow Ecuador strikes first! Horrible defense #W...          0   \n",
       "13849  Fair play to @BBCSport, not holding back at al...          1   \n",
       "22203  “Until television ratings tank, teams walk off...          0   \n",
       "11493  Hey #Football, just a quick thanks for driving...          1   \n",
       "5858   Yes!!!! Go #ECU Should really be 0-2 but VAR m...          1   \n",
       "3277   The whole world is seeing that Qatar is trying...          0   \n",
       "16878  Good for Melissa Reddy to mention some of the ...          1   \n",
       "86     The golden maknae killing the world cup stage....          1   \n",
       "15666  These opening ceremonies are perfect - they ha...          1   \n",
       "\n",
       "                                             clean_tweet  predicted_sentiment  \n",
       "20322      for the migrant workers  lgbtq community a...                    0  \n",
       "15971                   family sweepstake  i am doomed                      1  \n",
       "17759  now that the  is about to start  who do you re...                    1  \n",
       "6948                                   rip world cup                        1  \n",
       "3165   st  were not disappointing  besides that spiri...                    0  \n",
       "10470       wow ecuador strikes first  horrible defense                     1  \n",
       "13849  fair play to  not holding back at all in criti...                    0  \n",
       "22203   until television ratings tank  teams walk off...                    1  \n",
       "11493  hey  just a quick thanks for driving global aw...                    0  \n",
       "5858     yes     go  should really be   but var my arse                     0  \n",
       "3277   the whole world is seeing that qatar is trying...                    1  \n",
       "16878  good for melissa reddy to mention some of the ...                    0  \n",
       "86     the golden maknae killing the world cup stage ...                    0  \n",
       "15666  these opening ceremonies are perfect   they ha...                    0  "
      ]
     },
     "execution_count": 80,
     "metadata": {},
     "output_type": "execute_result"
    }
   ],
   "source": [
    "df_test_error.iloc[:14]"
   ]
  },
  {
   "cell_type": "markdown",
   "metadata": {},
   "source": [
    "4.2.2 Interpret error examples\n"
   ]
  },
  {
   "cell_type": "markdown",
   "metadata": {},
   "source": [
    "Emoji"
   ]
  },
  {
   "cell_type": "code",
   "execution_count": 94,
   "metadata": {},
   "outputs": [
    {
     "data": {
      "text/plain": [
       "('RIP World Cup 👎🏼 #WorldCup2022', 1)"
      ]
     },
     "execution_count": 94,
     "metadata": {},
     "output_type": "execute_result"
    }
   ],
   "source": [
    "df_test_error.loc[6948]['Tweet'], df_test_error.loc[6948]['predicted_sentiment']\n"
   ]
  },
  {
   "cell_type": "markdown",
   "metadata": {},
   "source": [
    "We can see in this case, this tweet is mistakenly labeled as positive while it is negative. The difference is that in the clean_tweet the emoji is removed. However, this emoji here is strongly associated with negative emotions, which cannot be captured by the model as we remove all emojis. The possible solution is to find a way to keep all the emoji information, and add them into model training process."
   ]
  },
  {
   "cell_type": "markdown",
   "metadata": {},
   "source": [
    "Context changes sentiment"
   ]
  },
  {
   "cell_type": "code",
   "execution_count": 87,
   "metadata": {},
   "outputs": [
    {
     "data": {
      "text/plain": [
       "('The golden maknae killing the world cup stage. 🔥💜#BTSJUNGKOOK #WorldCup2022 #QatarWorldCup2022 https://t.co/44hbVKMT84',\n",
       " 0)"
      ]
     },
     "execution_count": 87,
     "metadata": {},
     "output_type": "execute_result"
    }
   ],
   "source": [
    "df_test_error.loc[86]['Tweet'], df_test_error.loc[86]['predicted_sentiment']"
   ]
  },
  {
   "cell_type": "markdown",
   "metadata": {},
   "source": [
    "In this case, the word \"killing\" is much likely associated with negative emotions. However, in this context, \"killing\" represents a positive tone. The possible solution might be to use n-grams instead of unigram therefore the model can capture more information from a set of words. \n",
    "\n",
    "This issue can also happen if sarcasm is involved, which can be very complicated and worth to be expored in the future. "
   ]
  },
  {
   "cell_type": "markdown",
   "metadata": {},
   "source": [
    "Other insights\n",
    "\n",
    "In this project, only the valence of emotions (positive vs. negative) is discussed. I would like to do multiclass classification in the future where we can use more specific categories of emotions (e.g., happy, anger, disgust, ...) "
   ]
  },
  {
   "cell_type": "markdown",
   "metadata": {},
   "source": []
  }
 ],
 "metadata": {
  "kernelspec": {
   "display_name": "Python 3.9.13 64-bit",
   "language": "python",
   "name": "python3"
  },
  "language_info": {
   "codemirror_mode": {
    "name": "ipython",
    "version": 3
   },
   "file_extension": ".py",
   "mimetype": "text/x-python",
   "name": "python",
   "nbconvert_exporter": "python",
   "pygments_lexer": "ipython3",
   "version": "3.10.9"
  },
  "orig_nbformat": 4,
  "vscode": {
   "interpreter": {
    "hash": "31f2aee4e71d21fbe5cf8b01ff0e069b9275f58929596ceb00d14d90e3e16cd6"
   }
  }
 },
 "nbformat": 4,
 "nbformat_minor": 2
}
